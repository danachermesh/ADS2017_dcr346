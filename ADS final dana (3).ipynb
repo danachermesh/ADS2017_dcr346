{
 "cells": [
  {
   "cell_type": "markdown",
   "metadata": {},
   "source": [
    "# ADS proj -- School & Crime"
   ]
  },
  {
   "cell_type": "code",
   "execution_count": 200,
   "metadata": {},
   "outputs": [
    {
     "name": "stdout",
     "output_type": "stream",
     "text": [
      "Populating the interactive namespace from numpy and matplotlib\n"
     ]
    }
   ],
   "source": [
    "from __future__ import print_function, division\n",
    "import sys\n",
    "import os\n",
    "import numpy as np\n",
    "import pylab as pl\n",
    "#importing pandas for reading and parsing of tabulated data\n",
    "import pandas as pd\n",
    "#importing geopandas read to plot geographical information\n",
    "import geopandas as gpd\n",
    "#importing fiona to handle geographical coordinates\n",
    "import fiona\n",
    "#import shapely to handle geographical shapes\n",
    "import shapely\n",
    "import json\n",
    "import requests \n",
    "import urllib\n",
    "\n",
    "import seaborn as sns\n",
    "sns.set_style('whitegrid')\n",
    "%pylab inline\n",
    "\n",
    "import statsmodels.formula.api as smf\n",
    "from IPython.display import HTML"
   ]
  },
  {
   "cell_type": "code",
   "execution_count": 201,
   "metadata": {},
   "outputs": [
    {
     "name": "stdout",
     "output_type": "stream",
     "text": [
      "/home/cusp/dcr346/PUIdata\n"
     ]
    }
   ],
   "source": [
    "PUIDATA = os.getenv('PUIDATA')\n",
    "print(PUIDATA)"
   ]
  },
  {
   "cell_type": "markdown",
   "metadata": {},
   "source": [
    "## Read in School shapefile (points)"
   ]
  },
  {
   "cell_type": "code",
   "execution_count": 202,
   "metadata": {
    "scrolled": false
   },
   "outputs": [
    {
     "data": {
      "text/html": [
       "<div>\n",
       "<table border=\"1\" class=\"dataframe\">\n",
       "  <thead>\n",
       "    <tr style=\"text-align: right;\">\n",
       "      <th></th>\n",
       "      <th>ATS_CODE</th>\n",
       "      <th>BORO</th>\n",
       "      <th>BORONUM</th>\n",
       "      <th>LOC_CODE</th>\n",
       "      <th>SCHOOLNAME</th>\n",
       "      <th>SCH_TYPE</th>\n",
       "      <th>MANAGED_BY</th>\n",
       "      <th>GEO_DISTRI</th>\n",
       "      <th>ADMIN_DIST</th>\n",
       "      <th>ADDRESS</th>\n",
       "      <th>STATE_CODE</th>\n",
       "      <th>ZIP</th>\n",
       "      <th>PRINCIPAL</th>\n",
       "      <th>PRIN_PH</th>\n",
       "      <th>FAX</th>\n",
       "      <th>GRADES</th>\n",
       "      <th>City</th>\n",
       "      <th>geometry</th>\n",
       "    </tr>\n",
       "  </thead>\n",
       "  <tbody>\n",
       "    <tr>\n",
       "      <th>0</th>\n",
       "      <td>15K001</td>\n",
       "      <td>K</td>\n",
       "      <td>2.0</td>\n",
       "      <td>K001</td>\n",
       "      <td>P.S. 001 THE BERGEN</td>\n",
       "      <td>Elementary</td>\n",
       "      <td>1</td>\n",
       "      <td>15</td>\n",
       "      <td>15</td>\n",
       "      <td>309 47 STREET</td>\n",
       "      <td>NY</td>\n",
       "      <td>11220</td>\n",
       "      <td>Jennifer Eusanio</td>\n",
       "      <td>718-567-7661</td>\n",
       "      <td>718-567-9771</td>\n",
       "      <td>PK,0K,01,02,03,04,05,SE</td>\n",
       "      <td>BROOKLYN</td>\n",
       "      <td>POINT (980985.0541713729 175780.758994163)</td>\n",
       "    </tr>\n",
       "    <tr>\n",
       "      <th>1</th>\n",
       "      <td>17K002</td>\n",
       "      <td>K</td>\n",
       "      <td>2.0</td>\n",
       "      <td>K002</td>\n",
       "      <td>M.S. 002</td>\n",
       "      <td>Junior High-Intermediate-Middle</td>\n",
       "      <td>1</td>\n",
       "      <td>17</td>\n",
       "      <td>17</td>\n",
       "      <td>655 PARKSIDE AVENUE</td>\n",
       "      <td>NY</td>\n",
       "      <td>11226</td>\n",
       "      <td>ADRIENNE SPENCER</td>\n",
       "      <td>718-462-6992</td>\n",
       "      <td>718-284-7717</td>\n",
       "      <td>06,07,08,SE</td>\n",
       "      <td>BROOKLYN</td>\n",
       "      <td>POINT (997785.1364296663 178431.910832498)</td>\n",
       "    </tr>\n",
       "    <tr>\n",
       "      <th>2</th>\n",
       "      <td>21K095</td>\n",
       "      <td>K</td>\n",
       "      <td>2.0</td>\n",
       "      <td>K095</td>\n",
       "      <td>P.S. 095 THE GRAVESEND</td>\n",
       "      <td>K-8</td>\n",
       "      <td>1</td>\n",
       "      <td>21</td>\n",
       "      <td>21</td>\n",
       "      <td>345 VAN SICKLEN STREET</td>\n",
       "      <td>NY</td>\n",
       "      <td>11223</td>\n",
       "      <td>Janet Ndzibah</td>\n",
       "      <td>718-449-5050</td>\n",
       "      <td>718-449-3047</td>\n",
       "      <td>PK,0K,01,02,03,04,05,06,07,08,SE</td>\n",
       "      <td>BROOKLYN</td>\n",
       "      <td>POINT (991224.9830063033 156323.3612131244)</td>\n",
       "    </tr>\n",
       "    <tr>\n",
       "      <th>3</th>\n",
       "      <td>21K096</td>\n",
       "      <td>K</td>\n",
       "      <td>2.0</td>\n",
       "      <td>K096</td>\n",
       "      <td>I.S. 096 SETH LOW</td>\n",
       "      <td>Junior High-Intermediate-Middle</td>\n",
       "      <td>1</td>\n",
       "      <td>21</td>\n",
       "      <td>21</td>\n",
       "      <td>99 AVENUE P</td>\n",
       "      <td>NY</td>\n",
       "      <td>11204</td>\n",
       "      <td>Denise Sandra Levinsky</td>\n",
       "      <td>718-236-1344</td>\n",
       "      <td>718-236-2397</td>\n",
       "      <td>06,07,08,SE</td>\n",
       "      <td>BROOKLYN</td>\n",
       "      <td>POINT (988439.6813609767 160709.9926236183)</td>\n",
       "    </tr>\n",
       "    <tr>\n",
       "      <th>4</th>\n",
       "      <td>21K097</td>\n",
       "      <td>K</td>\n",
       "      <td>2.0</td>\n",
       "      <td>K097</td>\n",
       "      <td>P.S. 97 THE HIGHLAWN</td>\n",
       "      <td>Elementary</td>\n",
       "      <td>1</td>\n",
       "      <td>21</td>\n",
       "      <td>21</td>\n",
       "      <td>1855 STILLWELL AVENUE</td>\n",
       "      <td>NY</td>\n",
       "      <td>11223</td>\n",
       "      <td>KRISTINE MUSTILLO</td>\n",
       "      <td>718-372-7393</td>\n",
       "      <td>718-372-3842</td>\n",
       "      <td>PK,0K,01,02,03,04,05,SE</td>\n",
       "      <td>BROOKLYN</td>\n",
       "      <td>POINT (988205.0729096507 158329.5913366843)</td>\n",
       "    </tr>\n",
       "  </tbody>\n",
       "</table>\n",
       "</div>"
      ],
      "text/plain": [
       "       ATS_CODE BORO  BORONUM LOC_CODE              SCHOOLNAME  \\\n",
       "0  15K001          K      2.0     K001     P.S. 001 THE BERGEN   \n",
       "1  17K002          K      2.0     K002                M.S. 002   \n",
       "2  21K095          K      2.0     K095  P.S. 095 THE GRAVESEND   \n",
       "3  21K096          K      2.0     K096       I.S. 096 SETH LOW   \n",
       "4  21K097          K      2.0     K097    P.S. 97 THE HIGHLAWN   \n",
       "\n",
       "                          SCH_TYPE  MANAGED_BY  GEO_DISTRI  ADMIN_DIST  \\\n",
       "0                       Elementary           1          15          15   \n",
       "1  Junior High-Intermediate-Middle           1          17          17   \n",
       "2                              K-8           1          21          21   \n",
       "3  Junior High-Intermediate-Middle           1          21          21   \n",
       "4                       Elementary           1          21          21   \n",
       "\n",
       "                  ADDRESS STATE_CODE    ZIP               PRINCIPAL  \\\n",
       "0           309 47 STREET         NY  11220        Jennifer Eusanio   \n",
       "1     655 PARKSIDE AVENUE         NY  11226        ADRIENNE SPENCER   \n",
       "2  345 VAN SICKLEN STREET         NY  11223           Janet Ndzibah   \n",
       "3             99 AVENUE P         NY  11204  Denise Sandra Levinsky   \n",
       "4   1855 STILLWELL AVENUE         NY  11223       KRISTINE MUSTILLO   \n",
       "\n",
       "        PRIN_PH           FAX                            GRADES      City  \\\n",
       "0  718-567-7661  718-567-9771           PK,0K,01,02,03,04,05,SE  BROOKLYN   \n",
       "1  718-462-6992  718-284-7717                       06,07,08,SE  BROOKLYN   \n",
       "2  718-449-5050  718-449-3047  PK,0K,01,02,03,04,05,06,07,08,SE  BROOKLYN   \n",
       "3  718-236-1344  718-236-2397                       06,07,08,SE  BROOKLYN   \n",
       "4  718-372-7393  718-372-3842           PK,0K,01,02,03,04,05,SE  BROOKLYN   \n",
       "\n",
       "                                      geometry  \n",
       "0   POINT (980985.0541713729 175780.758994163)  \n",
       "1   POINT (997785.1364296663 178431.910832498)  \n",
       "2  POINT (991224.9830063033 156323.3612131244)  \n",
       "3  POINT (988439.6813609767 160709.9926236183)  \n",
       "4  POINT (988205.0729096507 158329.5913366843)  "
      ]
     },
     "execution_count": 202,
     "metadata": {},
     "output_type": "execute_result"
    }
   ],
   "source": [
    "schoolshp = gpd.GeoDataFrame.from_file(PUIDATA +\"/Public_Schools_Points_2011-2012A.shp\")\n",
    "#schoolshp.crs = from_epsg(2263) \n",
    "schoolshp.head()"
   ]
  },
  {
   "cell_type": "code",
   "execution_count": 203,
   "metadata": {},
   "outputs": [
    {
     "data": {
      "text/plain": [
       "ATS_CODE       object\n",
       "BORO           object\n",
       "BORONUM       float64\n",
       "LOC_CODE       object\n",
       "SCHOOLNAME     object\n",
       "SCH_TYPE       object\n",
       "MANAGED_BY      int64\n",
       "GEO_DISTRI      int64\n",
       "ADMIN_DIST      int64\n",
       "ADDRESS        object\n",
       "STATE_CODE     object\n",
       "ZIP             int64\n",
       "PRINCIPAL      object\n",
       "PRIN_PH        object\n",
       "FAX            object\n",
       "GRADES         object\n",
       "City           object\n",
       "geometry       object\n",
       "dtype: object"
      ]
     },
     "execution_count": 203,
     "metadata": {},
     "output_type": "execute_result"
    }
   ],
   "source": [
    "schoolshp.dtypes"
   ]
  },
  {
   "cell_type": "code",
   "execution_count": 204,
   "metadata": {},
   "outputs": [
    {
     "data": {
      "text/plain": [
       "(1709, 18)"
      ]
     },
     "execution_count": 204,
     "metadata": {},
     "output_type": "execute_result"
    }
   ],
   "source": [
    "schoolshp.shape"
   ]
  },
  {
   "cell_type": "markdown",
   "metadata": {},
   "source": [
    "## Read in PUMA shapefile"
   ]
  },
  {
   "cell_type": "code",
   "execution_count": 205,
   "metadata": {},
   "outputs": [],
   "source": [
    "url = 'https://data.cityofnewyork.us/Housing-Development/Public-Use-Microdata-Areas-PUMA-/cwiz-gcty/data'"
   ]
  },
  {
   "cell_type": "code",
   "execution_count": 206,
   "metadata": {},
   "outputs": [
    {
     "data": {
      "text/plain": [
       "2304"
      ]
     },
     "execution_count": 206,
     "metadata": {},
     "output_type": "execute_result"
    }
   ],
   "source": [
    "urllib.request.urlretrieve(url, \"puma.gz\")\n",
    "os.system(\"unzip -d %s puma.zip\"%(os.getenv('PUIDATA')))"
   ]
  },
  {
   "cell_type": "code",
   "execution_count": 207,
   "metadata": {},
   "outputs": [
    {
     "data": {
      "text/html": [
       "<div>\n",
       "<table border=\"1\" class=\"dataframe\">\n",
       "  <thead>\n",
       "    <tr style=\"text-align: right;\">\n",
       "      <th></th>\n",
       "      <th>puma</th>\n",
       "      <th>shape_leng</th>\n",
       "      <th>shape_area</th>\n",
       "      <th>geometry</th>\n",
       "    </tr>\n",
       "  </thead>\n",
       "  <tbody>\n",
       "    <tr>\n",
       "      <th>0</th>\n",
       "      <td>3701</td>\n",
       "      <td>53227.144376</td>\n",
       "      <td>9.792852e+07</td>\n",
       "      <td>POLYGON ((-73.89641133483133 40.90450452082026...</td>\n",
       "    </tr>\n",
       "    <tr>\n",
       "      <th>1</th>\n",
       "      <td>3702</td>\n",
       "      <td>106050.008344</td>\n",
       "      <td>1.889860e+08</td>\n",
       "      <td>POLYGON ((-73.86477258283533 40.90201244187379...</td>\n",
       "    </tr>\n",
       "    <tr>\n",
       "      <th>2</th>\n",
       "      <td>3703</td>\n",
       "      <td>304875.033427</td>\n",
       "      <td>2.670770e+08</td>\n",
       "      <td>(POLYGON ((-73.78833349834532 40.8346671297593...</td>\n",
       "    </tr>\n",
       "    <tr>\n",
       "      <th>3</th>\n",
       "      <td>3704</td>\n",
       "      <td>47970.900868</td>\n",
       "      <td>1.062129e+08</td>\n",
       "      <td>POLYGON ((-73.84792614069238 40.8713422330779,...</td>\n",
       "    </tr>\n",
       "    <tr>\n",
       "      <th>4</th>\n",
       "      <td>3705</td>\n",
       "      <td>68593.066759</td>\n",
       "      <td>1.224946e+08</td>\n",
       "      <td>POLYGON ((-73.87045508990893 40.86663286876232...</td>\n",
       "    </tr>\n",
       "  </tbody>\n",
       "</table>\n",
       "</div>"
      ],
      "text/plain": [
       "   puma     shape_leng    shape_area  \\\n",
       "0  3701   53227.144376  9.792852e+07   \n",
       "1  3702  106050.008344  1.889860e+08   \n",
       "2  3703  304875.033427  2.670770e+08   \n",
       "3  3704   47970.900868  1.062129e+08   \n",
       "4  3705   68593.066759  1.224946e+08   \n",
       "\n",
       "                                            geometry  \n",
       "0  POLYGON ((-73.89641133483133 40.90450452082026...  \n",
       "1  POLYGON ((-73.86477258283533 40.90201244187379...  \n",
       "2  (POLYGON ((-73.78833349834532 40.8346671297593...  \n",
       "3  POLYGON ((-73.84792614069238 40.8713422330779,...  \n",
       "4  POLYGON ((-73.87045508990893 40.86663286876232...  "
      ]
     },
     "execution_count": 207,
     "metadata": {},
     "output_type": "execute_result"
    }
   ],
   "source": [
    "pumashp = gpd.GeoDataFrame.from_file(PUIDATA + '/geo_export_3ec730a2-fc45-4924-aa8f-a1d3f9b4c746.shp')\n",
    "pumashp.head()"
   ]
  },
  {
   "cell_type": "code",
   "execution_count": 208,
   "metadata": {},
   "outputs": [
    {
     "data": {
      "image/png": "[encoded data removed]",
      "text/plain": [
       "<matplotlib.figure.Figure at 0x7f2b206da358>"
      ]
     },
     "metadata": {},
     "output_type": "display_data"
    }
   ],
   "source": [
    "# using a choroplethNYC function that FBB wrote\n",
    "import choroplethNYC as cp\n",
    "cp.choroplethNYC(pumashp, column=None, color=\"white\", edgecolor=\"black\", lw=.5);"
   ]
  },
  {
   "cell_type": "code",
   "execution_count": 209,
   "metadata": {},
   "outputs": [
    {
     "data": {
      "text/plain": [
       "(55, 4)"
      ]
     },
     "execution_count": 209,
     "metadata": {},
     "output_type": "execute_result"
    }
   ],
   "source": [
    "pumashp.shape"
   ]
  },
  {
   "cell_type": "markdown",
   "metadata": {},
   "source": [
    "## Read in School Progress Data"
   ]
  },
  {
   "cell_type": "code",
   "execution_count": 210,
   "metadata": {},
   "outputs": [],
   "source": [
    "#schoolprog = pd.DataFrame.from_csv(PUIDATA + '/2007_-_2011_School_Progress_Report_Multi-year.csv')\n",
    "#schoolprog.head()"
   ]
  },
  {
   "cell_type": "code",
   "execution_count": 211,
   "metadata": {},
   "outputs": [],
   "source": [
    "schools2007 = pd.read_excel(\"http://schools.nyc.gov/NR/rdonlyres/CA6CD49D-E595-4272-B594-385A6A3229A3/0/2007ProgressReportResults_011409.xls\", skiprows=0)\n",
    "schools2013 = pd.read_excel(\"http://schools.nyc.gov/NR/rdonlyres/1550033E-3F15-4746-BD1A-DF3364721785/0/2012_2013_EMS_PR_Results_2014_04_24.xlsx\", skiprows=1)"
   ]
  },
  {
   "cell_type": "markdown",
   "metadata": {},
   "source": [
    "## Cleaning 2007 data"
   ]
  },
  {
   "cell_type": "code",
   "execution_count": 212,
   "metadata": {
    "scrolled": false
   },
   "outputs": [],
   "source": [
    "schools2007 = schools2007.dropna(0)\n",
    "#schools2007 = schools2007.reset_index()"
   ]
  },
  {
   "cell_type": "code",
   "execution_count": 213,
   "metadata": {},
   "outputs": [
    {
     "data": {
      "text/html": [
       "<div>\n",
       "<table border=\"1\" class=\"dataframe\">\n",
       "  <thead>\n",
       "    <tr style=\"text-align: right;\">\n",
       "      <th></th>\n",
       "      <th>DBN</th>\n",
       "      <th>DISTRICT</th>\n",
       "      <th>SCHOOL</th>\n",
       "      <th>SCHOOL SUPPORT ORGANIZATION/NETWORK</th>\n",
       "      <th>PROGRESS REPORT TYPE</th>\n",
       "      <th>SCHOOL LEVEL*</th>\n",
       "      <th>PEER INDEX*</th>\n",
       "      <th>GRADE</th>\n",
       "      <th>OVERALL SCORE</th>\n",
       "      <th>ENVIRONMENT CATEGORY SCORE</th>\n",
       "      <th>PERFORMANCE CATEGORY SCORE</th>\n",
       "      <th>PROGRESS CATEGORY SCORE</th>\n",
       "      <th>ADDITIONAL CREDIT</th>\n",
       "      <th>QUALITY REVIEW SCORE</th>\n",
       "    </tr>\n",
       "  </thead>\n",
       "  <tbody>\n",
       "    <tr>\n",
       "      <th>NaN</th>\n",
       "      <td>01M015</td>\n",
       "      <td>01</td>\n",
       "      <td>PS 015 ROBERTO CLEMENTE</td>\n",
       "      <td>ICI15</td>\n",
       "      <td>ESMS</td>\n",
       "      <td>Elementary School</td>\n",
       "      <td>75.6</td>\n",
       "      <td>B</td>\n",
       "      <td>52.31</td>\n",
       "      <td>0.278</td>\n",
       "      <td>0.231</td>\n",
       "      <td>0.694</td>\n",
       "      <td>3</td>\n",
       "      <td>Undeveloped</td>\n",
       "    </tr>\n",
       "    <tr>\n",
       "      <th>NaN</th>\n",
       "      <td>01M019</td>\n",
       "      <td>01</td>\n",
       "      <td>PS 019 ASHER LEVY</td>\n",
       "      <td>ESO1</td>\n",
       "      <td>ESMS</td>\n",
       "      <td>Elementary School</td>\n",
       "      <td>59.25</td>\n",
       "      <td>B</td>\n",
       "      <td>51.24</td>\n",
       "      <td>0.51</td>\n",
       "      <td>0.466</td>\n",
       "      <td>0.511</td>\n",
       "      <td>1.5</td>\n",
       "      <td>Proficient</td>\n",
       "    </tr>\n",
       "    <tr>\n",
       "      <th>NaN</th>\n",
       "      <td>01M020</td>\n",
       "      <td>01</td>\n",
       "      <td>PS 020 ANNA SILVER</td>\n",
       "      <td>ICI15</td>\n",
       "      <td>ESMS</td>\n",
       "      <td>Elementary School</td>\n",
       "      <td>69.78</td>\n",
       "      <td>B</td>\n",
       "      <td>52.59</td>\n",
       "      <td>0.568</td>\n",
       "      <td>0.682</td>\n",
       "      <td>0.402</td>\n",
       "      <td>1.5</td>\n",
       "      <td>Well-Developed</td>\n",
       "    </tr>\n",
       "    <tr>\n",
       "      <th>NaN</th>\n",
       "      <td>01M034</td>\n",
       "      <td>01</td>\n",
       "      <td>PS 034 FRANKLIN D ROOSEVELT</td>\n",
       "      <td>ICI15</td>\n",
       "      <td>ESMS</td>\n",
       "      <td>K-8 School</td>\n",
       "      <td>71.9</td>\n",
       "      <td>C</td>\n",
       "      <td>47.02</td>\n",
       "      <td>0.409</td>\n",
       "      <td>0.366</td>\n",
       "      <td>0.53</td>\n",
       "      <td>0.75</td>\n",
       "      <td>Proficient</td>\n",
       "    </tr>\n",
       "    <tr>\n",
       "      <th>NaN</th>\n",
       "      <td>01M063</td>\n",
       "      <td>01</td>\n",
       "      <td>PS 063 WILLIAM MCKINLEY</td>\n",
       "      <td>ICI15</td>\n",
       "      <td>ESMS</td>\n",
       "      <td>Elementary School</td>\n",
       "      <td>62.17</td>\n",
       "      <td>C</td>\n",
       "      <td>44.66</td>\n",
       "      <td>0.199</td>\n",
       "      <td>0.511</td>\n",
       "      <td>0.479</td>\n",
       "      <td>0</td>\n",
       "      <td>Proficient</td>\n",
       "    </tr>\n",
       "  </tbody>\n",
       "</table>\n",
       "</div>"
      ],
      "text/plain": [
       "        DBN DISTRICT                       SCHOOL  \\\n",
       "NaN  01M015       01      PS 015 ROBERTO CLEMENTE   \n",
       "NaN  01M019       01            PS 019 ASHER LEVY   \n",
       "NaN  01M020       01           PS 020 ANNA SILVER   \n",
       "NaN  01M034       01  PS 034 FRANKLIN D ROOSEVELT   \n",
       "NaN  01M063       01      PS 063 WILLIAM MCKINLEY   \n",
       "\n",
       "    SCHOOL SUPPORT ORGANIZATION/NETWORK PROGRESS REPORT TYPE  \\\n",
       "NaN                               ICI15                 ESMS   \n",
       "NaN                                ESO1                 ESMS   \n",
       "NaN                               ICI15                 ESMS   \n",
       "NaN                               ICI15                 ESMS   \n",
       "NaN                               ICI15                 ESMS   \n",
       "\n",
       "         SCHOOL LEVEL* PEER INDEX* GRADE OVERALL SCORE  \\\n",
       "NaN  Elementary School        75.6     B         52.31   \n",
       "NaN  Elementary School       59.25     B         51.24   \n",
       "NaN  Elementary School       69.78     B         52.59   \n",
       "NaN         K-8 School        71.9     C         47.02   \n",
       "NaN  Elementary School       62.17     C         44.66   \n",
       "\n",
       "    ENVIRONMENT CATEGORY SCORE PERFORMANCE CATEGORY SCORE  \\\n",
       "NaN                      0.278                      0.231   \n",
       "NaN                       0.51                      0.466   \n",
       "NaN                      0.568                      0.682   \n",
       "NaN                      0.409                      0.366   \n",
       "NaN                      0.199                      0.511   \n",
       "\n",
       "    PROGRESS CATEGORY SCORE ADDITIONAL CREDIT QUALITY REVIEW SCORE  \n",
       "NaN                   0.694                 3          Undeveloped  \n",
       "NaN                   0.511               1.5           Proficient  \n",
       "NaN                   0.402               1.5       Well-Developed  \n",
       "NaN                    0.53              0.75           Proficient  \n",
       "NaN                   0.479                 0           Proficient  "
      ]
     },
     "execution_count": 213,
     "metadata": {},
     "output_type": "execute_result"
    }
   ],
   "source": [
    "columns = (np.asarray(schools2007.iloc[:1,:]))\n",
    "schools2007.columns = columns[0]\n",
    "schools2007 =  schools2007.iloc[1:,:]\n",
    "\n",
    "schools2007.head()"
   ]
  },
  {
   "cell_type": "code",
   "execution_count": 214,
   "metadata": {},
   "outputs": [],
   "source": [
    "schools2007['Rating'] = schools2007['GRADE'].map({'A': 5, 'B': 4,'C':3,'D':2,'F':1})"
   ]
  },
  {
   "cell_type": "code",
   "execution_count": 215,
   "metadata": {},
   "outputs": [
    {
     "data": {
      "text/html": [
       "<div>\n",
       "<table border=\"1\" class=\"dataframe\">\n",
       "  <thead>\n",
       "    <tr style=\"text-align: right;\">\n",
       "      <th></th>\n",
       "      <th>DBN</th>\n",
       "      <th>SCHOOL</th>\n",
       "      <th>SCHOOL LEVEL*</th>\n",
       "      <th>Rating</th>\n",
       "    </tr>\n",
       "  </thead>\n",
       "  <tbody>\n",
       "    <tr>\n",
       "      <th>NaN</th>\n",
       "      <td>01M015</td>\n",
       "      <td>PS 015 ROBERTO CLEMENTE</td>\n",
       "      <td>Elementary School</td>\n",
       "      <td>4.0</td>\n",
       "    </tr>\n",
       "    <tr>\n",
       "      <th>NaN</th>\n",
       "      <td>01M019</td>\n",
       "      <td>PS 019 ASHER LEVY</td>\n",
       "      <td>Elementary School</td>\n",
       "      <td>4.0</td>\n",
       "    </tr>\n",
       "    <tr>\n",
       "      <th>NaN</th>\n",
       "      <td>01M020</td>\n",
       "      <td>PS 020 ANNA SILVER</td>\n",
       "      <td>Elementary School</td>\n",
       "      <td>4.0</td>\n",
       "    </tr>\n",
       "    <tr>\n",
       "      <th>NaN</th>\n",
       "      <td>01M034</td>\n",
       "      <td>PS 034 FRANKLIN D ROOSEVELT</td>\n",
       "      <td>K-8 School</td>\n",
       "      <td>3.0</td>\n",
       "    </tr>\n",
       "    <tr>\n",
       "      <th>NaN</th>\n",
       "      <td>01M063</td>\n",
       "      <td>PS 063 WILLIAM MCKINLEY</td>\n",
       "      <td>Elementary School</td>\n",
       "      <td>3.0</td>\n",
       "    </tr>\n",
       "  </tbody>\n",
       "</table>\n",
       "</div>"
      ],
      "text/plain": [
       "        DBN                       SCHOOL      SCHOOL LEVEL*  Rating\n",
       "NaN  01M015      PS 015 ROBERTO CLEMENTE  Elementary School     4.0\n",
       "NaN  01M019            PS 019 ASHER LEVY  Elementary School     4.0\n",
       "NaN  01M020           PS 020 ANNA SILVER  Elementary School     4.0\n",
       "NaN  01M034  PS 034 FRANKLIN D ROOSEVELT         K-8 School     3.0\n",
       "NaN  01M063      PS 063 WILLIAM MCKINLEY  Elementary School     3.0"
      ]
     },
     "execution_count": 215,
     "metadata": {},
     "output_type": "execute_result"
    }
   ],
   "source": [
    "schools2007 = schools2007[['DBN','SCHOOL','SCHOOL LEVEL*','Rating']]\n",
    "schools2007.head()"
   ]
  },
  {
   "cell_type": "code",
   "execution_count": 216,
   "metadata": {
    "scrolled": true
   },
   "outputs": [
    {
     "data": {
      "text/html": [
       "<div>\n",
       "<table border=\"1\" class=\"dataframe\">\n",
       "  <thead>\n",
       "    <tr style=\"text-align: right;\">\n",
       "      <th></th>\n",
       "      <th>DBN</th>\n",
       "      <th>SchoolName</th>\n",
       "      <th>SchoolType</th>\n",
       "      <th>Rating</th>\n",
       "    </tr>\n",
       "  </thead>\n",
       "  <tbody>\n",
       "    <tr>\n",
       "      <th>NaN</th>\n",
       "      <td>01M015</td>\n",
       "      <td>PS 015 ROBERTO CLEMENTE</td>\n",
       "      <td>Elementary School</td>\n",
       "      <td>4.0</td>\n",
       "    </tr>\n",
       "    <tr>\n",
       "      <th>NaN</th>\n",
       "      <td>01M019</td>\n",
       "      <td>PS 019 ASHER LEVY</td>\n",
       "      <td>Elementary School</td>\n",
       "      <td>4.0</td>\n",
       "    </tr>\n",
       "    <tr>\n",
       "      <th>NaN</th>\n",
       "      <td>01M020</td>\n",
       "      <td>PS 020 ANNA SILVER</td>\n",
       "      <td>Elementary School</td>\n",
       "      <td>4.0</td>\n",
       "    </tr>\n",
       "    <tr>\n",
       "      <th>NaN</th>\n",
       "      <td>01M034</td>\n",
       "      <td>PS 034 FRANKLIN D ROOSEVELT</td>\n",
       "      <td>K-8 School</td>\n",
       "      <td>3.0</td>\n",
       "    </tr>\n",
       "    <tr>\n",
       "      <th>NaN</th>\n",
       "      <td>01M063</td>\n",
       "      <td>PS 063 WILLIAM MCKINLEY</td>\n",
       "      <td>Elementary School</td>\n",
       "      <td>3.0</td>\n",
       "    </tr>\n",
       "  </tbody>\n",
       "</table>\n",
       "</div>"
      ],
      "text/plain": [
       "        DBN                   SchoolName         SchoolType  Rating\n",
       "NaN  01M015      PS 015 ROBERTO CLEMENTE  Elementary School     4.0\n",
       "NaN  01M019            PS 019 ASHER LEVY  Elementary School     4.0\n",
       "NaN  01M020           PS 020 ANNA SILVER  Elementary School     4.0\n",
       "NaN  01M034  PS 034 FRANKLIN D ROOSEVELT         K-8 School     3.0\n",
       "NaN  01M063      PS 063 WILLIAM MCKINLEY  Elementary School     3.0"
      ]
     },
     "execution_count": 216,
     "metadata": {},
     "output_type": "execute_result"
    }
   ],
   "source": [
    "schools2007.columns = ['DBN','SchoolName','SchoolType','Rating']\n",
    "schools2007.head()"
   ]
  },
  {
   "cell_type": "code",
   "execution_count": 217,
   "metadata": {},
   "outputs": [
    {
     "data": {
      "text/html": [
       "<div>\n",
       "<table border=\"1\" class=\"dataframe\">\n",
       "  <thead>\n",
       "    <tr style=\"text-align: right;\">\n",
       "      <th></th>\n",
       "      <th>DBN</th>\n",
       "      <th>SchoolName</th>\n",
       "      <th>SchoolType</th>\n",
       "      <th>Rating</th>\n",
       "    </tr>\n",
       "  </thead>\n",
       "  <tbody>\n",
       "    <tr>\n",
       "      <th>NaN</th>\n",
       "      <td>M015</td>\n",
       "      <td>PS 015 ROBERTO CLEMENTE</td>\n",
       "      <td>Elementary School</td>\n",
       "      <td>4.0</td>\n",
       "    </tr>\n",
       "    <tr>\n",
       "      <th>NaN</th>\n",
       "      <td>M019</td>\n",
       "      <td>PS 019 ASHER LEVY</td>\n",
       "      <td>Elementary School</td>\n",
       "      <td>4.0</td>\n",
       "    </tr>\n",
       "    <tr>\n",
       "      <th>NaN</th>\n",
       "      <td>M020</td>\n",
       "      <td>PS 020 ANNA SILVER</td>\n",
       "      <td>Elementary School</td>\n",
       "      <td>4.0</td>\n",
       "    </tr>\n",
       "    <tr>\n",
       "      <th>NaN</th>\n",
       "      <td>M034</td>\n",
       "      <td>PS 034 FRANKLIN D ROOSEVELT</td>\n",
       "      <td>K-8 School</td>\n",
       "      <td>3.0</td>\n",
       "    </tr>\n",
       "    <tr>\n",
       "      <th>NaN</th>\n",
       "      <td>M063</td>\n",
       "      <td>PS 063 WILLIAM MCKINLEY</td>\n",
       "      <td>Elementary School</td>\n",
       "      <td>3.0</td>\n",
       "    </tr>\n",
       "  </tbody>\n",
       "</table>\n",
       "</div>"
      ],
      "text/plain": [
       "      DBN                   SchoolName         SchoolType  Rating\n",
       "NaN  M015      PS 015 ROBERTO CLEMENTE  Elementary School     4.0\n",
       "NaN  M019            PS 019 ASHER LEVY  Elementary School     4.0\n",
       "NaN  M020           PS 020 ANNA SILVER  Elementary School     4.0\n",
       "NaN  M034  PS 034 FRANKLIN D ROOSEVELT         K-8 School     3.0\n",
       "NaN  M063      PS 063 WILLIAM MCKINLEY  Elementary School     3.0"
      ]
     },
     "execution_count": 217,
     "metadata": {},
     "output_type": "execute_result"
    }
   ],
   "source": [
    "schools2007['DBN'] = schools2007['DBN'].str[2:]\n",
    "schools2007.head()"
   ]
  },
  {
   "cell_type": "code",
   "execution_count": 218,
   "metadata": {
    "scrolled": true
   },
   "outputs": [
    {
     "data": {
      "text/plain": [
       "(1224, 4)"
      ]
     },
     "execution_count": 218,
     "metadata": {},
     "output_type": "execute_result"
    }
   ],
   "source": [
    "schools2007.shape"
   ]
  },
  {
   "cell_type": "code",
   "execution_count": 219,
   "metadata": {},
   "outputs": [],
   "source": [
    "schools2007.to_csv('schools2007.csv')"
   ]
  },
  {
   "cell_type": "markdown",
   "metadata": {},
   "source": [
    "## Cleaning 2013 data"
   ]
  },
  {
   "cell_type": "code",
   "execution_count": 220,
   "metadata": {},
   "outputs": [
    {
     "data": {
      "text/html": [
       "<div>\n",
       "<table border=\"1\" class=\"dataframe\">\n",
       "  <thead>\n",
       "    <tr style=\"text-align: right;\">\n",
       "      <th></th>\n",
       "      <th>DBN</th>\n",
       "      <th>SchoolName</th>\n",
       "      <th>SchoolType</th>\n",
       "      <th>Rating</th>\n",
       "    </tr>\n",
       "  </thead>\n",
       "  <tbody>\n",
       "    <tr>\n",
       "      <th>0</th>\n",
       "      <td>M015</td>\n",
       "      <td>P.S. 015 Roberto Clemente</td>\n",
       "      <td>Elementary</td>\n",
       "      <td>3.0</td>\n",
       "    </tr>\n",
       "    <tr>\n",
       "      <th>1</th>\n",
       "      <td>M019</td>\n",
       "      <td>P.S. 019 Asher Levy</td>\n",
       "      <td>Elementary</td>\n",
       "      <td>5.0</td>\n",
       "    </tr>\n",
       "    <tr>\n",
       "      <th>2</th>\n",
       "      <td>M020</td>\n",
       "      <td>P.S. 020 Anna Silver</td>\n",
       "      <td>Elementary</td>\n",
       "      <td>4.0</td>\n",
       "    </tr>\n",
       "    <tr>\n",
       "      <th>3</th>\n",
       "      <td>M034</td>\n",
       "      <td>P.S. 034 Franklin D. Roosevelt</td>\n",
       "      <td>K-8</td>\n",
       "      <td>5.0</td>\n",
       "    </tr>\n",
       "    <tr>\n",
       "      <th>4</th>\n",
       "      <td>M063</td>\n",
       "      <td>The STAR Academy - P.S.63</td>\n",
       "      <td>Elementary</td>\n",
       "      <td>3.0</td>\n",
       "    </tr>\n",
       "  </tbody>\n",
       "</table>\n",
       "</div>"
      ],
      "text/plain": [
       "    DBN                      SchoolName  SchoolType  Rating\n",
       "0  M015       P.S. 015 Roberto Clemente  Elementary     3.0\n",
       "1  M019             P.S. 019 Asher Levy  Elementary     5.0\n",
       "2  M020            P.S. 020 Anna Silver  Elementary     4.0\n",
       "3  M034  P.S. 034 Franklin D. Roosevelt         K-8     5.0\n",
       "4  M063       The STAR Academy - P.S.63  Elementary     3.0"
      ]
     },
     "execution_count": 220,
     "metadata": {},
     "output_type": "execute_result"
    }
   ],
   "source": [
    "schools2013['Rating'] = schools2013['Overall Grade'].map({'A': 5, 'B': 4,'C':3,'D':2,'F':1})\n",
    "schools2013 = schools2013[['DBN','School Name','School Type','Rating']]\n",
    "schools2013.columns = ['DBN','SchoolName','SchoolType','Rating']\n",
    "schools2013['DBN'] = schools2013['DBN'].str[2:]\n",
    "schools2013.head()"
   ]
  },
  {
   "cell_type": "code",
   "execution_count": 221,
   "metadata": {},
   "outputs": [
    {
     "data": {
      "text/plain": [
       "(1198, 4)"
      ]
     },
     "execution_count": 221,
     "metadata": {},
     "output_type": "execute_result"
    }
   ],
   "source": [
    "schools2013.shape"
   ]
  },
  {
   "cell_type": "code",
   "execution_count": 222,
   "metadata": {},
   "outputs": [],
   "source": [
    "schools2013.to_csv('schools2013.csv')"
   ]
  },
  {
   "cell_type": "markdown",
   "metadata": {},
   "source": [
    "## Merge School scores w School shp"
   ]
  },
  {
   "cell_type": "markdown",
   "metadata": {},
   "source": [
    "## 2007"
   ]
  },
  {
   "cell_type": "code",
   "execution_count": 223,
   "metadata": {},
   "outputs": [
    {
     "data": {
      "text/html": [
       "<div>\n",
       "<table border=\"1\" class=\"dataframe\">\n",
       "  <thead>\n",
       "    <tr style=\"text-align: right;\">\n",
       "      <th></th>\n",
       "      <th>DBN</th>\n",
       "      <th>SchoolName</th>\n",
       "      <th>SchoolType</th>\n",
       "      <th>Rating</th>\n",
       "      <th>ATS_CODE</th>\n",
       "      <th>BORO</th>\n",
       "      <th>BORONUM</th>\n",
       "      <th>LOC_CODE</th>\n",
       "      <th>SCHOOLNAME</th>\n",
       "      <th>SCH_TYPE</th>\n",
       "      <th>...</th>\n",
       "      <th>ADMIN_DIST</th>\n",
       "      <th>ADDRESS</th>\n",
       "      <th>STATE_CODE</th>\n",
       "      <th>ZIP</th>\n",
       "      <th>PRINCIPAL</th>\n",
       "      <th>PRIN_PH</th>\n",
       "      <th>FAX</th>\n",
       "      <th>GRADES</th>\n",
       "      <th>City</th>\n",
       "      <th>geometry</th>\n",
       "    </tr>\n",
       "  </thead>\n",
       "  <tbody>\n",
       "    <tr>\n",
       "      <th>0</th>\n",
       "      <td>M015</td>\n",
       "      <td>PS 015 ROBERTO CLEMENTE</td>\n",
       "      <td>Elementary School</td>\n",
       "      <td>4.0</td>\n",
       "      <td>01M015</td>\n",
       "      <td>M</td>\n",
       "      <td>1.0</td>\n",
       "      <td>M015</td>\n",
       "      <td>P.S. 015 ROBERTO CLEMENTE</td>\n",
       "      <td>Elementary</td>\n",
       "      <td>...</td>\n",
       "      <td>1</td>\n",
       "      <td>333 EAST  4 STREET</td>\n",
       "      <td>NY</td>\n",
       "      <td>10009</td>\n",
       "      <td>IRENE SANCHEZ</td>\n",
       "      <td>212-228-8730</td>\n",
       "      <td>212-477-0931</td>\n",
       "      <td>PK,0K,01,02,03,04,05,SE</td>\n",
       "      <td>MANHATTAN</td>\n",
       "      <td>POINT (990123.2547304605 202281.6311154864)</td>\n",
       "    </tr>\n",
       "    <tr>\n",
       "      <th>1</th>\n",
       "      <td>M019</td>\n",
       "      <td>PS 019 ASHER LEVY</td>\n",
       "      <td>Elementary School</td>\n",
       "      <td>4.0</td>\n",
       "      <td>01M019</td>\n",
       "      <td>M</td>\n",
       "      <td>1.0</td>\n",
       "      <td>M019</td>\n",
       "      <td>P.S. 019 ASHER LEVY</td>\n",
       "      <td>Elementary</td>\n",
       "      <td>...</td>\n",
       "      <td>1</td>\n",
       "      <td>185 1 AVENUE</td>\n",
       "      <td>NY</td>\n",
       "      <td>10003</td>\n",
       "      <td>JACQUELINE FLANAGAN</td>\n",
       "      <td>212-533-5340</td>\n",
       "      <td>212-673-1477</td>\n",
       "      <td>PK,0K,01,02,03,04,05,SE</td>\n",
       "      <td>MANHATTAN</td>\n",
       "      <td>POINT (988634.7054615917 205140.7731699182)</td>\n",
       "    </tr>\n",
       "    <tr>\n",
       "      <th>2</th>\n",
       "      <td>M020</td>\n",
       "      <td>PS 020 ANNA SILVER</td>\n",
       "      <td>Elementary School</td>\n",
       "      <td>4.0</td>\n",
       "      <td>01M020</td>\n",
       "      <td>M</td>\n",
       "      <td>1.0</td>\n",
       "      <td>M020</td>\n",
       "      <td>P.S. 020 ANNA SILVER</td>\n",
       "      <td>Elementary</td>\n",
       "      <td>...</td>\n",
       "      <td>1</td>\n",
       "      <td>166 ESSEX STREET</td>\n",
       "      <td>NY</td>\n",
       "      <td>10002</td>\n",
       "      <td>JAMES LEE</td>\n",
       "      <td>212-254-9577</td>\n",
       "      <td>212-254-3526</td>\n",
       "      <td>PK,0K,01,02,03,04,05,SE</td>\n",
       "      <td>MANHATTAN</td>\n",
       "      <td>POINT (988025.1479657721 202056.5849334946)</td>\n",
       "    </tr>\n",
       "    <tr>\n",
       "      <th>3</th>\n",
       "      <td>M034</td>\n",
       "      <td>PS 034 FRANKLIN D ROOSEVELT</td>\n",
       "      <td>K-8 School</td>\n",
       "      <td>3.0</td>\n",
       "      <td>01M034</td>\n",
       "      <td>M</td>\n",
       "      <td>1.0</td>\n",
       "      <td>M034</td>\n",
       "      <td>P.S. 034 FRANKLIN D. ROOSEVELT</td>\n",
       "      <td>K-8</td>\n",
       "      <td>...</td>\n",
       "      <td>1</td>\n",
       "      <td>730 EAST  12 STREET</td>\n",
       "      <td>NY</td>\n",
       "      <td>10009</td>\n",
       "      <td>JOYCE STALLINGS HARTE</td>\n",
       "      <td>212-228-4433</td>\n",
       "      <td>212-353-1973</td>\n",
       "      <td>PK,0K,01,02,03,04,05,06,07,08,SE</td>\n",
       "      <td>MANHATTAN</td>\n",
       "      <td>POINT (991118.12310576 203875.9493196165)</td>\n",
       "    </tr>\n",
       "    <tr>\n",
       "      <th>4</th>\n",
       "      <td>M063</td>\n",
       "      <td>PS 063 WILLIAM MCKINLEY</td>\n",
       "      <td>Elementary School</td>\n",
       "      <td>3.0</td>\n",
       "      <td>01M063</td>\n",
       "      <td>M</td>\n",
       "      <td>1.0</td>\n",
       "      <td>M063</td>\n",
       "      <td>P.S. 063 WILLIAM MCKINLEY</td>\n",
       "      <td>Elementary</td>\n",
       "      <td>...</td>\n",
       "      <td>1</td>\n",
       "      <td>121 EAST  3 STREET</td>\n",
       "      <td>NY</td>\n",
       "      <td>10009</td>\n",
       "      <td>DARLENE DESPEIGNES</td>\n",
       "      <td>212-674-3180</td>\n",
       "      <td>212-420-9018</td>\n",
       "      <td>PK,0K,01,02,03,04,05,SE</td>\n",
       "      <td>MANHATTAN</td>\n",
       "      <td>POINT (988036.345197865 203208.4555002286)</td>\n",
       "    </tr>\n",
       "  </tbody>\n",
       "</table>\n",
       "<p>5 rows × 22 columns</p>\n",
       "</div>"
      ],
      "text/plain": [
       "    DBN                   SchoolName         SchoolType  Rating      ATS_CODE  \\\n",
       "0  M015      PS 015 ROBERTO CLEMENTE  Elementary School     4.0  01M015         \n",
       "1  M019            PS 019 ASHER LEVY  Elementary School     4.0  01M019         \n",
       "2  M020           PS 020 ANNA SILVER  Elementary School     4.0  01M020         \n",
       "3  M034  PS 034 FRANKLIN D ROOSEVELT         K-8 School     3.0  01M034         \n",
       "4  M063      PS 063 WILLIAM MCKINLEY  Elementary School     3.0  01M063         \n",
       "\n",
       "  BORO  BORONUM LOC_CODE                      SCHOOLNAME    SCH_TYPE  \\\n",
       "0    M      1.0     M015       P.S. 015 ROBERTO CLEMENTE  Elementary   \n",
       "1    M      1.0     M019             P.S. 019 ASHER LEVY  Elementary   \n",
       "2    M      1.0     M020            P.S. 020 ANNA SILVER  Elementary   \n",
       "3    M      1.0     M034  P.S. 034 FRANKLIN D. ROOSEVELT         K-8   \n",
       "4    M      1.0     M063       P.S. 063 WILLIAM MCKINLEY  Elementary   \n",
       "\n",
       "                      ...                       ADMIN_DIST  \\\n",
       "0                     ...                                1   \n",
       "1                     ...                                1   \n",
       "2                     ...                                1   \n",
       "3                     ...                                1   \n",
       "4                     ...                                1   \n",
       "\n",
       "               ADDRESS  STATE_CODE    ZIP              PRINCIPAL  \\\n",
       "0   333 EAST  4 STREET          NY  10009          IRENE SANCHEZ   \n",
       "1         185 1 AVENUE          NY  10003    JACQUELINE FLANAGAN   \n",
       "2     166 ESSEX STREET          NY  10002              JAMES LEE   \n",
       "3  730 EAST  12 STREET          NY  10009  JOYCE STALLINGS HARTE   \n",
       "4   121 EAST  3 STREET          NY  10009     DARLENE DESPEIGNES   \n",
       "\n",
       "        PRIN_PH           FAX                            GRADES       City  \\\n",
       "0  212-228-8730  212-477-0931           PK,0K,01,02,03,04,05,SE  MANHATTAN   \n",
       "1  212-533-5340  212-673-1477           PK,0K,01,02,03,04,05,SE  MANHATTAN   \n",
       "2  212-254-9577  212-254-3526           PK,0K,01,02,03,04,05,SE  MANHATTAN   \n",
       "3  212-228-4433  212-353-1973  PK,0K,01,02,03,04,05,06,07,08,SE  MANHATTAN   \n",
       "4  212-674-3180  212-420-9018           PK,0K,01,02,03,04,05,SE  MANHATTAN   \n",
       "\n",
       "                                      geometry  \n",
       "0  POINT (990123.2547304605 202281.6311154864)  \n",
       "1  POINT (988634.7054615917 205140.7731699182)  \n",
       "2  POINT (988025.1479657721 202056.5849334946)  \n",
       "3    POINT (991118.12310576 203875.9493196165)  \n",
       "4   POINT (988036.345197865 203208.4555002286)  \n",
       "\n",
       "[5 rows x 22 columns]"
      ]
     },
     "execution_count": 223,
     "metadata": {},
     "output_type": "execute_result"
    }
   ],
   "source": [
    "schools2007 = schools2007.merge(schoolshp, left_on='DBN', right_on='LOC_CODE')\n",
    "schools2007.head()"
   ]
  },
  {
   "cell_type": "code",
   "execution_count": 224,
   "metadata": {},
   "outputs": [
    {
     "data": {
      "text/plain": [
       "(1201, 22)"
      ]
     },
     "execution_count": 224,
     "metadata": {},
     "output_type": "execute_result"
    }
   ],
   "source": [
    "schools2007.shape"
   ]
  },
  {
   "cell_type": "code",
   "execution_count": 225,
   "metadata": {},
   "outputs": [
    {
     "data": {
      "text/plain": [
       "Index(['DBN', 'SchoolName', 'SchoolType', 'Rating', 'ATS_CODE', 'BORO',\n",
       "       'BORONUM', 'LOC_CODE', 'SCHOOLNAME', 'SCH_TYPE', 'MANAGED_BY',\n",
       "       'GEO_DISTRI', 'ADMIN_DIST', 'ADDRESS', 'STATE_CODE', 'ZIP', 'PRINCIPAL',\n",
       "       'PRIN_PH', 'FAX', 'GRADES', 'City', 'geometry'],\n",
       "      dtype='object')"
      ]
     },
     "execution_count": 225,
     "metadata": {},
     "output_type": "execute_result"
    }
   ],
   "source": [
    "schools2007.columns"
   ]
  },
  {
   "cell_type": "code",
   "execution_count": 226,
   "metadata": {},
   "outputs": [
    {
     "data": {
      "text/html": [
       "<div>\n",
       "<table border=\"1\" class=\"dataframe\">\n",
       "  <thead>\n",
       "    <tr style=\"text-align: right;\">\n",
       "      <th></th>\n",
       "      <th>DBN</th>\n",
       "      <th>SchoolName</th>\n",
       "      <th>SchoolType</th>\n",
       "      <th>Rating</th>\n",
       "      <th>BORO</th>\n",
       "      <th>ZIP</th>\n",
       "      <th>geometry</th>\n",
       "    </tr>\n",
       "  </thead>\n",
       "  <tbody>\n",
       "    <tr>\n",
       "      <th>0</th>\n",
       "      <td>M015</td>\n",
       "      <td>PS 015 ROBERTO CLEMENTE</td>\n",
       "      <td>Elementary School</td>\n",
       "      <td>4.0</td>\n",
       "      <td>M</td>\n",
       "      <td>10009</td>\n",
       "      <td>POINT (990123.2547304605 202281.6311154864)</td>\n",
       "    </tr>\n",
       "    <tr>\n",
       "      <th>1</th>\n",
       "      <td>M019</td>\n",
       "      <td>PS 019 ASHER LEVY</td>\n",
       "      <td>Elementary School</td>\n",
       "      <td>4.0</td>\n",
       "      <td>M</td>\n",
       "      <td>10003</td>\n",
       "      <td>POINT (988634.7054615917 205140.7731699182)</td>\n",
       "    </tr>\n",
       "    <tr>\n",
       "      <th>2</th>\n",
       "      <td>M020</td>\n",
       "      <td>PS 020 ANNA SILVER</td>\n",
       "      <td>Elementary School</td>\n",
       "      <td>4.0</td>\n",
       "      <td>M</td>\n",
       "      <td>10002</td>\n",
       "      <td>POINT (988025.1479657721 202056.5849334946)</td>\n",
       "    </tr>\n",
       "    <tr>\n",
       "      <th>3</th>\n",
       "      <td>M034</td>\n",
       "      <td>PS 034 FRANKLIN D ROOSEVELT</td>\n",
       "      <td>K-8 School</td>\n",
       "      <td>3.0</td>\n",
       "      <td>M</td>\n",
       "      <td>10009</td>\n",
       "      <td>POINT (991118.12310576 203875.9493196165)</td>\n",
       "    </tr>\n",
       "    <tr>\n",
       "      <th>4</th>\n",
       "      <td>M063</td>\n",
       "      <td>PS 063 WILLIAM MCKINLEY</td>\n",
       "      <td>Elementary School</td>\n",
       "      <td>3.0</td>\n",
       "      <td>M</td>\n",
       "      <td>10009</td>\n",
       "      <td>POINT (988036.345197865 203208.4555002286)</td>\n",
       "    </tr>\n",
       "  </tbody>\n",
       "</table>\n",
       "</div>"
      ],
      "text/plain": [
       "    DBN                   SchoolName         SchoolType  Rating BORO    ZIP  \\\n",
       "0  M015      PS 015 ROBERTO CLEMENTE  Elementary School     4.0    M  10009   \n",
       "1  M019            PS 019 ASHER LEVY  Elementary School     4.0    M  10003   \n",
       "2  M020           PS 020 ANNA SILVER  Elementary School     4.0    M  10002   \n",
       "3  M034  PS 034 FRANKLIN D ROOSEVELT         K-8 School     3.0    M  10009   \n",
       "4  M063      PS 063 WILLIAM MCKINLEY  Elementary School     3.0    M  10009   \n",
       "\n",
       "                                      geometry  \n",
       "0  POINT (990123.2547304605 202281.6311154864)  \n",
       "1  POINT (988634.7054615917 205140.7731699182)  \n",
       "2  POINT (988025.1479657721 202056.5849334946)  \n",
       "3    POINT (991118.12310576 203875.9493196165)  \n",
       "4   POINT (988036.345197865 203208.4555002286)  "
      ]
     },
     "execution_count": 226,
     "metadata": {},
     "output_type": "execute_result"
    }
   ],
   "source": [
    "schools2007 =  schools2007[['DBN','SchoolName','SchoolType','Rating', 'BORO', 'ZIP','geometry']]\n",
    "schools2007.head()"
   ]
  },
  {
   "cell_type": "markdown",
   "metadata": {},
   "source": [
    "## 2013"
   ]
  },
  {
   "cell_type": "code",
   "execution_count": 227,
   "metadata": {
    "scrolled": true
   },
   "outputs": [
    {
     "data": {
      "text/html": [
       "<div>\n",
       "<table border=\"1\" class=\"dataframe\">\n",
       "  <thead>\n",
       "    <tr style=\"text-align: right;\">\n",
       "      <th></th>\n",
       "      <th>DBN</th>\n",
       "      <th>SchoolName</th>\n",
       "      <th>SchoolType</th>\n",
       "      <th>Rating</th>\n",
       "      <th>ATS_CODE</th>\n",
       "      <th>BORO</th>\n",
       "      <th>BORONUM</th>\n",
       "      <th>LOC_CODE</th>\n",
       "      <th>SCHOOLNAME</th>\n",
       "      <th>SCH_TYPE</th>\n",
       "      <th>...</th>\n",
       "      <th>ADMIN_DIST</th>\n",
       "      <th>ADDRESS</th>\n",
       "      <th>STATE_CODE</th>\n",
       "      <th>ZIP</th>\n",
       "      <th>PRINCIPAL</th>\n",
       "      <th>PRIN_PH</th>\n",
       "      <th>FAX</th>\n",
       "      <th>GRADES</th>\n",
       "      <th>City</th>\n",
       "      <th>geometry</th>\n",
       "    </tr>\n",
       "  </thead>\n",
       "  <tbody>\n",
       "    <tr>\n",
       "      <th>0</th>\n",
       "      <td>M015</td>\n",
       "      <td>P.S. 015 Roberto Clemente</td>\n",
       "      <td>Elementary</td>\n",
       "      <td>3.0</td>\n",
       "      <td>01M015</td>\n",
       "      <td>M</td>\n",
       "      <td>1.0</td>\n",
       "      <td>M015</td>\n",
       "      <td>P.S. 015 ROBERTO CLEMENTE</td>\n",
       "      <td>Elementary</td>\n",
       "      <td>...</td>\n",
       "      <td>1</td>\n",
       "      <td>333 EAST  4 STREET</td>\n",
       "      <td>NY</td>\n",
       "      <td>10009</td>\n",
       "      <td>IRENE SANCHEZ</td>\n",
       "      <td>212-228-8730</td>\n",
       "      <td>212-477-0931</td>\n",
       "      <td>PK,0K,01,02,03,04,05,SE</td>\n",
       "      <td>MANHATTAN</td>\n",
       "      <td>POINT (990123.2547304605 202281.6311154864)</td>\n",
       "    </tr>\n",
       "    <tr>\n",
       "      <th>1</th>\n",
       "      <td>M019</td>\n",
       "      <td>P.S. 019 Asher Levy</td>\n",
       "      <td>Elementary</td>\n",
       "      <td>5.0</td>\n",
       "      <td>01M019</td>\n",
       "      <td>M</td>\n",
       "      <td>1.0</td>\n",
       "      <td>M019</td>\n",
       "      <td>P.S. 019 ASHER LEVY</td>\n",
       "      <td>Elementary</td>\n",
       "      <td>...</td>\n",
       "      <td>1</td>\n",
       "      <td>185 1 AVENUE</td>\n",
       "      <td>NY</td>\n",
       "      <td>10003</td>\n",
       "      <td>JACQUELINE FLANAGAN</td>\n",
       "      <td>212-533-5340</td>\n",
       "      <td>212-673-1477</td>\n",
       "      <td>PK,0K,01,02,03,04,05,SE</td>\n",
       "      <td>MANHATTAN</td>\n",
       "      <td>POINT (988634.7054615917 205140.7731699182)</td>\n",
       "    </tr>\n",
       "    <tr>\n",
       "      <th>2</th>\n",
       "      <td>M020</td>\n",
       "      <td>P.S. 020 Anna Silver</td>\n",
       "      <td>Elementary</td>\n",
       "      <td>4.0</td>\n",
       "      <td>01M020</td>\n",
       "      <td>M</td>\n",
       "      <td>1.0</td>\n",
       "      <td>M020</td>\n",
       "      <td>P.S. 020 ANNA SILVER</td>\n",
       "      <td>Elementary</td>\n",
       "      <td>...</td>\n",
       "      <td>1</td>\n",
       "      <td>166 ESSEX STREET</td>\n",
       "      <td>NY</td>\n",
       "      <td>10002</td>\n",
       "      <td>JAMES LEE</td>\n",
       "      <td>212-254-9577</td>\n",
       "      <td>212-254-3526</td>\n",
       "      <td>PK,0K,01,02,03,04,05,SE</td>\n",
       "      <td>MANHATTAN</td>\n",
       "      <td>POINT (988025.1479657721 202056.5849334946)</td>\n",
       "    </tr>\n",
       "  </tbody>\n",
       "</table>\n",
       "<p>3 rows × 22 columns</p>\n",
       "</div>"
      ],
      "text/plain": [
       "    DBN                 SchoolName  SchoolType  Rating      ATS_CODE BORO  \\\n",
       "0  M015  P.S. 015 Roberto Clemente  Elementary     3.0  01M015          M   \n",
       "1  M019        P.S. 019 Asher Levy  Elementary     5.0  01M019          M   \n",
       "2  M020       P.S. 020 Anna Silver  Elementary     4.0  01M020          M   \n",
       "\n",
       "   BORONUM LOC_CODE                 SCHOOLNAME    SCH_TYPE  \\\n",
       "0      1.0     M015  P.S. 015 ROBERTO CLEMENTE  Elementary   \n",
       "1      1.0     M019        P.S. 019 ASHER LEVY  Elementary   \n",
       "2      1.0     M020       P.S. 020 ANNA SILVER  Elementary   \n",
       "\n",
       "                      ...                       ADMIN_DIST  \\\n",
       "0                     ...                                1   \n",
       "1                     ...                                1   \n",
       "2                     ...                                1   \n",
       "\n",
       "              ADDRESS  STATE_CODE    ZIP            PRINCIPAL       PRIN_PH  \\\n",
       "0  333 EAST  4 STREET          NY  10009        IRENE SANCHEZ  212-228-8730   \n",
       "1        185 1 AVENUE          NY  10003  JACQUELINE FLANAGAN  212-533-5340   \n",
       "2    166 ESSEX STREET          NY  10002            JAMES LEE  212-254-9577   \n",
       "\n",
       "            FAX                   GRADES       City  \\\n",
       "0  212-477-0931  PK,0K,01,02,03,04,05,SE  MANHATTAN   \n",
       "1  212-673-1477  PK,0K,01,02,03,04,05,SE  MANHATTAN   \n",
       "2  212-254-3526  PK,0K,01,02,03,04,05,SE  MANHATTAN   \n",
       "\n",
       "                                      geometry  \n",
       "0  POINT (990123.2547304605 202281.6311154864)  \n",
       "1  POINT (988634.7054615917 205140.7731699182)  \n",
       "2  POINT (988025.1479657721 202056.5849334946)  \n",
       "\n",
       "[3 rows x 22 columns]"
      ]
     },
     "execution_count": 227,
     "metadata": {},
     "output_type": "execute_result"
    }
   ],
   "source": [
    "schools2013 = schools2013.merge(schoolshp, left_on='DBN', right_on='LOC_CODE')\n",
    "schools2013.head(3)"
   ]
  },
  {
   "cell_type": "code",
   "execution_count": 228,
   "metadata": {},
   "outputs": [
    {
     "data": {
      "text/plain": [
       "(1181, 22)"
      ]
     },
     "execution_count": 228,
     "metadata": {},
     "output_type": "execute_result"
    }
   ],
   "source": [
    "schools2013.shape"
   ]
  },
  {
   "cell_type": "code",
   "execution_count": 229,
   "metadata": {},
   "outputs": [
    {
     "data": {
      "text/html": [
       "<div>\n",
       "<table border=\"1\" class=\"dataframe\">\n",
       "  <thead>\n",
       "    <tr style=\"text-align: right;\">\n",
       "      <th></th>\n",
       "      <th>DBN</th>\n",
       "      <th>SchoolName</th>\n",
       "      <th>SchoolType</th>\n",
       "      <th>Rating</th>\n",
       "      <th>BORO</th>\n",
       "      <th>ZIP</th>\n",
       "      <th>geometry</th>\n",
       "    </tr>\n",
       "  </thead>\n",
       "  <tbody>\n",
       "    <tr>\n",
       "      <th>0</th>\n",
       "      <td>M015</td>\n",
       "      <td>P.S. 015 Roberto Clemente</td>\n",
       "      <td>Elementary</td>\n",
       "      <td>3.0</td>\n",
       "      <td>M</td>\n",
       "      <td>10009</td>\n",
       "      <td>POINT (990123.2547304605 202281.6311154864)</td>\n",
       "    </tr>\n",
       "    <tr>\n",
       "      <th>1</th>\n",
       "      <td>M019</td>\n",
       "      <td>P.S. 019 Asher Levy</td>\n",
       "      <td>Elementary</td>\n",
       "      <td>5.0</td>\n",
       "      <td>M</td>\n",
       "      <td>10003</td>\n",
       "      <td>POINT (988634.7054615917 205140.7731699182)</td>\n",
       "    </tr>\n",
       "    <tr>\n",
       "      <th>2</th>\n",
       "      <td>M020</td>\n",
       "      <td>P.S. 020 Anna Silver</td>\n",
       "      <td>Elementary</td>\n",
       "      <td>4.0</td>\n",
       "      <td>M</td>\n",
       "      <td>10002</td>\n",
       "      <td>POINT (988025.1479657721 202056.5849334946)</td>\n",
       "    </tr>\n",
       "    <tr>\n",
       "      <th>3</th>\n",
       "      <td>M034</td>\n",
       "      <td>P.S. 034 Franklin D. Roosevelt</td>\n",
       "      <td>K-8</td>\n",
       "      <td>5.0</td>\n",
       "      <td>M</td>\n",
       "      <td>10009</td>\n",
       "      <td>POINT (991118.12310576 203875.9493196165)</td>\n",
       "    </tr>\n",
       "    <tr>\n",
       "      <th>4</th>\n",
       "      <td>M063</td>\n",
       "      <td>The STAR Academy - P.S.63</td>\n",
       "      <td>Elementary</td>\n",
       "      <td>3.0</td>\n",
       "      <td>M</td>\n",
       "      <td>10009</td>\n",
       "      <td>POINT (988036.345197865 203208.4555002286)</td>\n",
       "    </tr>\n",
       "  </tbody>\n",
       "</table>\n",
       "</div>"
      ],
      "text/plain": [
       "    DBN                      SchoolName  SchoolType  Rating BORO    ZIP  \\\n",
       "0  M015       P.S. 015 Roberto Clemente  Elementary     3.0    M  10009   \n",
       "1  M019             P.S. 019 Asher Levy  Elementary     5.0    M  10003   \n",
       "2  M020            P.S. 020 Anna Silver  Elementary     4.0    M  10002   \n",
       "3  M034  P.S. 034 Franklin D. Roosevelt         K-8     5.0    M  10009   \n",
       "4  M063       The STAR Academy - P.S.63  Elementary     3.0    M  10009   \n",
       "\n",
       "                                      geometry  \n",
       "0  POINT (990123.2547304605 202281.6311154864)  \n",
       "1  POINT (988634.7054615917 205140.7731699182)  \n",
       "2  POINT (988025.1479657721 202056.5849334946)  \n",
       "3    POINT (991118.12310576 203875.9493196165)  \n",
       "4   POINT (988036.345197865 203208.4555002286)  "
      ]
     },
     "execution_count": 229,
     "metadata": {},
     "output_type": "execute_result"
    }
   ],
   "source": [
    "schools2013 =  schools2013[['DBN','SchoolName','SchoolType','Rating', 'BORO', 'ZIP','geometry']]\n",
    "schools2013.head()"
   ]
  },
  {
   "cell_type": "markdown",
   "metadata": {},
   "source": [
    "# Spatial Join (.sjoin) with PUMA shp (point+polygons)"
   ]
  },
  {
   "cell_type": "markdown",
   "metadata": {},
   "source": [
    "## 2007"
   ]
  },
  {
   "cell_type": "code",
   "execution_count": 230,
   "metadata": {},
   "outputs": [
    {
     "data": {
      "text/plain": [
       "pandas.core.frame.DataFrame"
      ]
     },
     "execution_count": 230,
     "metadata": {},
     "output_type": "execute_result"
    }
   ],
   "source": [
    "type(schools2007)"
   ]
  },
  {
   "cell_type": "code",
   "execution_count": 231,
   "metadata": {},
   "outputs": [
    {
     "data": {
      "text/plain": [
       "geopandas.geodataframe.GeoDataFrame"
      ]
     },
     "execution_count": 231,
     "metadata": {},
     "output_type": "execute_result"
    }
   ],
   "source": [
    "#from geopandas import GeoDataFrame\n",
    "#from shapely.geometry import Point\n",
    "\n",
    "#geometry = [Point(xy) for xy in zip(df.Lon, df.Lat)]\n",
    "#df = df.drop(['Lon', 'Lat'], axis=1)\n",
    "crs = {'init': 'epsg:2263'}\n",
    "schools2007 = gpd.GeoDataFrame(schools2007, crs=crs, geometry=schools2007.geometry)\n",
    "type(schools2007)"
   ]
  },
  {
   "cell_type": "code",
   "execution_count": 232,
   "metadata": {},
   "outputs": [
    {
     "data": {
      "text/html": [
       "<div>\n",
       "<table border=\"1\" class=\"dataframe\">\n",
       "  <thead>\n",
       "    <tr style=\"text-align: right;\">\n",
       "      <th></th>\n",
       "      <th>DBN</th>\n",
       "      <th>SchoolName</th>\n",
       "      <th>SchoolType</th>\n",
       "      <th>Rating</th>\n",
       "      <th>BORO</th>\n",
       "      <th>ZIP</th>\n",
       "      <th>geometry</th>\n",
       "    </tr>\n",
       "  </thead>\n",
       "  <tbody>\n",
       "    <tr>\n",
       "      <th>0</th>\n",
       "      <td>M015</td>\n",
       "      <td>PS 015 ROBERTO CLEMENTE</td>\n",
       "      <td>Elementary School</td>\n",
       "      <td>4.0</td>\n",
       "      <td>M</td>\n",
       "      <td>10009</td>\n",
       "      <td>POINT (990123.2547304605 202281.6311154864)</td>\n",
       "    </tr>\n",
       "    <tr>\n",
       "      <th>1</th>\n",
       "      <td>M019</td>\n",
       "      <td>PS 019 ASHER LEVY</td>\n",
       "      <td>Elementary School</td>\n",
       "      <td>4.0</td>\n",
       "      <td>M</td>\n",
       "      <td>10003</td>\n",
       "      <td>POINT (988634.7054615917 205140.7731699182)</td>\n",
       "    </tr>\n",
       "    <tr>\n",
       "      <th>2</th>\n",
       "      <td>M020</td>\n",
       "      <td>PS 020 ANNA SILVER</td>\n",
       "      <td>Elementary School</td>\n",
       "      <td>4.0</td>\n",
       "      <td>M</td>\n",
       "      <td>10002</td>\n",
       "      <td>POINT (988025.1479657721 202056.5849334946)</td>\n",
       "    </tr>\n",
       "    <tr>\n",
       "      <th>3</th>\n",
       "      <td>M034</td>\n",
       "      <td>PS 034 FRANKLIN D ROOSEVELT</td>\n",
       "      <td>K-8 School</td>\n",
       "      <td>3.0</td>\n",
       "      <td>M</td>\n",
       "      <td>10009</td>\n",
       "      <td>POINT (991118.12310576 203875.9493196165)</td>\n",
       "    </tr>\n",
       "    <tr>\n",
       "      <th>4</th>\n",
       "      <td>M063</td>\n",
       "      <td>PS 063 WILLIAM MCKINLEY</td>\n",
       "      <td>Elementary School</td>\n",
       "      <td>3.0</td>\n",
       "      <td>M</td>\n",
       "      <td>10009</td>\n",
       "      <td>POINT (988036.345197865 203208.4555002286)</td>\n",
       "    </tr>\n",
       "  </tbody>\n",
       "</table>\n",
       "</div>"
      ],
      "text/plain": [
       "    DBN                   SchoolName         SchoolType  Rating BORO    ZIP  \\\n",
       "0  M015      PS 015 ROBERTO CLEMENTE  Elementary School     4.0    M  10009   \n",
       "1  M019            PS 019 ASHER LEVY  Elementary School     4.0    M  10003   \n",
       "2  M020           PS 020 ANNA SILVER  Elementary School     4.0    M  10002   \n",
       "3  M034  PS 034 FRANKLIN D ROOSEVELT         K-8 School     3.0    M  10009   \n",
       "4  M063      PS 063 WILLIAM MCKINLEY  Elementary School     3.0    M  10009   \n",
       "\n",
       "                                      geometry  \n",
       "0  POINT (990123.2547304605 202281.6311154864)  \n",
       "1  POINT (988634.7054615917 205140.7731699182)  \n",
       "2  POINT (988025.1479657721 202056.5849334946)  \n",
       "3    POINT (991118.12310576 203875.9493196165)  \n",
       "4   POINT (988036.345197865 203208.4555002286)  "
      ]
     },
     "execution_count": 232,
     "metadata": {},
     "output_type": "execute_result"
    }
   ],
   "source": [
    "schools2007.head()"
   ]
  },
  {
   "cell_type": "code",
   "execution_count": 233,
   "metadata": {},
   "outputs": [
    {
     "data": {
      "text/plain": [
       "{'init': 'epsg:2263'}"
      ]
     },
     "execution_count": 233,
     "metadata": {},
     "output_type": "execute_result"
    }
   ],
   "source": [
    "schools2007.crs"
   ]
  },
  {
   "cell_type": "code",
   "execution_count": 234,
   "metadata": {},
   "outputs": [
    {
     "data": {
      "text/plain": [
       "{'init': 'epsg:4326'}"
      ]
     },
     "execution_count": 234,
     "metadata": {},
     "output_type": "execute_result"
    }
   ],
   "source": [
    "pumashp.crs"
   ]
  },
  {
   "cell_type": "code",
   "execution_count": 235,
   "metadata": {},
   "outputs": [
    {
     "data": {
      "text/plain": [
       "{'init': 'epsg:2263'}"
      ]
     },
     "execution_count": 235,
     "metadata": {},
     "output_type": "execute_result"
    }
   ],
   "source": [
    "pumashp = pumashp.to_crs({'init': 'epsg:2263'})\n",
    "pumashp.crs"
   ]
  },
  {
   "cell_type": "code",
   "execution_count": 236,
   "metadata": {},
   "outputs": [
    {
     "data": {
      "text/html": [
       "<div>\n",
       "<table border=\"1\" class=\"dataframe\">\n",
       "  <thead>\n",
       "    <tr style=\"text-align: right;\">\n",
       "      <th></th>\n",
       "      <th>DBN</th>\n",
       "      <th>SchoolName</th>\n",
       "      <th>SchoolType</th>\n",
       "      <th>Rating</th>\n",
       "      <th>BORO</th>\n",
       "      <th>ZIP</th>\n",
       "      <th>geometry</th>\n",
       "      <th>index_right</th>\n",
       "      <th>puma</th>\n",
       "      <th>shape_leng</th>\n",
       "      <th>shape_area</th>\n",
       "    </tr>\n",
       "  </thead>\n",
       "  <tbody>\n",
       "    <tr>\n",
       "      <th>396</th>\n",
       "      <td>X307</td>\n",
       "      <td>EAMES PLACE (P.S.307)</td>\n",
       "      <td>Elementary School</td>\n",
       "      <td>5.0</td>\n",
       "      <td>X</td>\n",
       "      <td>10468</td>\n",
       "      <td>POINT (1011441.883968057 255954.5619534563)</td>\n",
       "      <td>0</td>\n",
       "      <td>3701</td>\n",
       "      <td>53227.144376</td>\n",
       "      <td>9.792852e+07</td>\n",
       "    </tr>\n",
       "    <tr>\n",
       "      <th>401</th>\n",
       "      <td>X340</td>\n",
       "      <td>PS 340</td>\n",
       "      <td>Elementary School</td>\n",
       "      <td>4.0</td>\n",
       "      <td>X</td>\n",
       "      <td>10468</td>\n",
       "      <td>POINT (1012674.011965437 255963.4726108323)</td>\n",
       "      <td>0</td>\n",
       "      <td>3701</td>\n",
       "      <td>53227.144376</td>\n",
       "      <td>9.792852e+07</td>\n",
       "    </tr>\n",
       "    <tr>\n",
       "      <th>372</th>\n",
       "      <td>X086</td>\n",
       "      <td>PS 086 KINGSBRIDGE HEIGHTS</td>\n",
       "      <td>Elementary School</td>\n",
       "      <td>5.0</td>\n",
       "      <td>X</td>\n",
       "      <td>10468</td>\n",
       "      <td>POINT (1012385.25224769 256185.0749038415)</td>\n",
       "      <td>0</td>\n",
       "      <td>3701</td>\n",
       "      <td>53227.144376</td>\n",
       "      <td>9.792852e+07</td>\n",
       "    </tr>\n",
       "    <tr>\n",
       "      <th>402</th>\n",
       "      <td>X342</td>\n",
       "      <td>INTERNATIONAL SCHOOL OF LIBERAL ARTS</td>\n",
       "      <td>Middle School</td>\n",
       "      <td>4.0</td>\n",
       "      <td>X</td>\n",
       "      <td>10468</td>\n",
       "      <td>POINT (1012546.720579609 256392.6970082848)</td>\n",
       "      <td>0</td>\n",
       "      <td>3701</td>\n",
       "      <td>53227.144376</td>\n",
       "      <td>9.792852e+07</td>\n",
       "    </tr>\n",
       "    <tr>\n",
       "      <th>425</th>\n",
       "      <td>X549</td>\n",
       "      <td>DISCOVERY HIGH SCHOOL</td>\n",
       "      <td>High School</td>\n",
       "      <td>4.0</td>\n",
       "      <td>X</td>\n",
       "      <td>10468</td>\n",
       "      <td>POINT (1012755.37051009 256396.3899274084)</td>\n",
       "      <td>0</td>\n",
       "      <td>3701</td>\n",
       "      <td>53227.144376</td>\n",
       "      <td>9.792852e+07</td>\n",
       "    </tr>\n",
       "  </tbody>\n",
       "</table>\n",
       "</div>"
      ],
      "text/plain": [
       "      DBN                            SchoolName         SchoolType  Rating  \\\n",
       "396  X307                 EAMES PLACE (P.S.307)  Elementary School     5.0   \n",
       "401  X340                                PS 340  Elementary School     4.0   \n",
       "372  X086            PS 086 KINGSBRIDGE HEIGHTS  Elementary School     5.0   \n",
       "402  X342  INTERNATIONAL SCHOOL OF LIBERAL ARTS      Middle School     4.0   \n",
       "425  X549                 DISCOVERY HIGH SCHOOL        High School     4.0   \n",
       "\n",
       "    BORO    ZIP                                     geometry  index_right  \\\n",
       "396    X  10468  POINT (1011441.883968057 255954.5619534563)            0   \n",
       "401    X  10468  POINT (1012674.011965437 255963.4726108323)            0   \n",
       "372    X  10468   POINT (1012385.25224769 256185.0749038415)            0   \n",
       "402    X  10468  POINT (1012546.720579609 256392.6970082848)            0   \n",
       "425    X  10468   POINT (1012755.37051009 256396.3899274084)            0   \n",
       "\n",
       "     puma    shape_leng    shape_area  \n",
       "396  3701  53227.144376  9.792852e+07  \n",
       "401  3701  53227.144376  9.792852e+07  \n",
       "372  3701  53227.144376  9.792852e+07  \n",
       "402  3701  53227.144376  9.792852e+07  \n",
       "425  3701  53227.144376  9.792852e+07  "
      ]
     },
     "execution_count": 236,
     "metadata": {},
     "output_type": "execute_result"
    }
   ],
   "source": [
    "schools2007g = gpd.sjoin(schools2007, pumashp, how='inner', op='within')\n",
    "schools2007g.head()"
   ]
  },
  {
   "cell_type": "code",
   "execution_count": 237,
   "metadata": {},
   "outputs": [
    {
     "data": {
      "text/plain": [
       "(1201, 11)"
      ]
     },
     "execution_count": 237,
     "metadata": {},
     "output_type": "execute_result"
    }
   ],
   "source": [
    "schools2007g.shape"
   ]
  },
  {
   "cell_type": "code",
   "execution_count": 238,
   "metadata": {},
   "outputs": [
    {
     "data": {
      "text/html": [
       "<div>\n",
       "<table border=\"1\" class=\"dataframe\">\n",
       "  <thead>\n",
       "    <tr style=\"text-align: right;\">\n",
       "      <th></th>\n",
       "      <th>Rating07</th>\n",
       "    </tr>\n",
       "    <tr>\n",
       "      <th>puma</th>\n",
       "      <th></th>\n",
       "    </tr>\n",
       "  </thead>\n",
       "  <tbody>\n",
       "    <tr>\n",
       "      <th>3701</th>\n",
       "      <td>4.192308</td>\n",
       "    </tr>\n",
       "    <tr>\n",
       "      <th>3702</th>\n",
       "      <td>3.555556</td>\n",
       "    </tr>\n",
       "    <tr>\n",
       "      <th>3703</th>\n",
       "      <td>3.714286</td>\n",
       "    </tr>\n",
       "    <tr>\n",
       "      <th>3704</th>\n",
       "      <td>3.800000</td>\n",
       "    </tr>\n",
       "    <tr>\n",
       "      <th>3705</th>\n",
       "      <td>3.569231</td>\n",
       "    </tr>\n",
       "  </tbody>\n",
       "</table>\n",
       "</div>"
      ],
      "text/plain": [
       "      Rating07\n",
       "puma          \n",
       "3701  4.192308\n",
       "3702  3.555556\n",
       "3703  3.714286\n",
       "3704  3.800000\n",
       "3705  3.569231"
      ]
     },
     "execution_count": 238,
     "metadata": {},
     "output_type": "execute_result"
    }
   ],
   "source": [
    "schools2007g = schools2007g.groupby([schools2007g['puma']]).mean()\n",
    "schools2007g = schools2007g[['Rating']]\n",
    "#schools2007g['Rating'] = schools2007g['Rating'].str[:4]\n",
    "schools2007g.columns = ['Rating07']\n",
    "schools2007g.head()"
   ]
  },
  {
   "cell_type": "markdown",
   "metadata": {},
   "source": [
    "## 2013"
   ]
  },
  {
   "cell_type": "code",
   "execution_count": 239,
   "metadata": {},
   "outputs": [
    {
     "data": {
      "text/plain": [
       "geopandas.geodataframe.GeoDataFrame"
      ]
     },
     "execution_count": 239,
     "metadata": {},
     "output_type": "execute_result"
    }
   ],
   "source": [
    "crs = {'init': 'epsg:2263'}\n",
    "schools2013 = gpd.GeoDataFrame(schools2013, crs=crs, geometry=schools2013.geometry)\n",
    "type(schools2013)"
   ]
  },
  {
   "cell_type": "code",
   "execution_count": 240,
   "metadata": {},
   "outputs": [
    {
     "data": {
      "text/html": [
       "<div>\n",
       "<table border=\"1\" class=\"dataframe\">\n",
       "  <thead>\n",
       "    <tr style=\"text-align: right;\">\n",
       "      <th></th>\n",
       "      <th>DBN</th>\n",
       "      <th>SchoolName</th>\n",
       "      <th>SchoolType</th>\n",
       "      <th>Rating</th>\n",
       "      <th>BORO</th>\n",
       "      <th>ZIP</th>\n",
       "      <th>geometry</th>\n",
       "    </tr>\n",
       "  </thead>\n",
       "  <tbody>\n",
       "    <tr>\n",
       "      <th>0</th>\n",
       "      <td>M015</td>\n",
       "      <td>P.S. 015 Roberto Clemente</td>\n",
       "      <td>Elementary</td>\n",
       "      <td>3.0</td>\n",
       "      <td>M</td>\n",
       "      <td>10009</td>\n",
       "      <td>POINT (990123.2547304605 202281.6311154864)</td>\n",
       "    </tr>\n",
       "    <tr>\n",
       "      <th>1</th>\n",
       "      <td>M019</td>\n",
       "      <td>P.S. 019 Asher Levy</td>\n",
       "      <td>Elementary</td>\n",
       "      <td>5.0</td>\n",
       "      <td>M</td>\n",
       "      <td>10003</td>\n",
       "      <td>POINT (988634.7054615917 205140.7731699182)</td>\n",
       "    </tr>\n",
       "    <tr>\n",
       "      <th>2</th>\n",
       "      <td>M020</td>\n",
       "      <td>P.S. 020 Anna Silver</td>\n",
       "      <td>Elementary</td>\n",
       "      <td>4.0</td>\n",
       "      <td>M</td>\n",
       "      <td>10002</td>\n",
       "      <td>POINT (988025.1479657721 202056.5849334946)</td>\n",
       "    </tr>\n",
       "    <tr>\n",
       "      <th>3</th>\n",
       "      <td>M034</td>\n",
       "      <td>P.S. 034 Franklin D. Roosevelt</td>\n",
       "      <td>K-8</td>\n",
       "      <td>5.0</td>\n",
       "      <td>M</td>\n",
       "      <td>10009</td>\n",
       "      <td>POINT (991118.12310576 203875.9493196165)</td>\n",
       "    </tr>\n",
       "    <tr>\n",
       "      <th>4</th>\n",
       "      <td>M063</td>\n",
       "      <td>The STAR Academy - P.S.63</td>\n",
       "      <td>Elementary</td>\n",
       "      <td>3.0</td>\n",
       "      <td>M</td>\n",
       "      <td>10009</td>\n",
       "      <td>POINT (988036.345197865 203208.4555002286)</td>\n",
       "    </tr>\n",
       "  </tbody>\n",
       "</table>\n",
       "</div>"
      ],
      "text/plain": [
       "    DBN                      SchoolName  SchoolType  Rating BORO    ZIP  \\\n",
       "0  M015       P.S. 015 Roberto Clemente  Elementary     3.0    M  10009   \n",
       "1  M019             P.S. 019 Asher Levy  Elementary     5.0    M  10003   \n",
       "2  M020            P.S. 020 Anna Silver  Elementary     4.0    M  10002   \n",
       "3  M034  P.S. 034 Franklin D. Roosevelt         K-8     5.0    M  10009   \n",
       "4  M063       The STAR Academy - P.S.63  Elementary     3.0    M  10009   \n",
       "\n",
       "                                      geometry  \n",
       "0  POINT (990123.2547304605 202281.6311154864)  \n",
       "1  POINT (988634.7054615917 205140.7731699182)  \n",
       "2  POINT (988025.1479657721 202056.5849334946)  \n",
       "3    POINT (991118.12310576 203875.9493196165)  \n",
       "4   POINT (988036.345197865 203208.4555002286)  "
      ]
     },
     "execution_count": 240,
     "metadata": {},
     "output_type": "execute_result"
    }
   ],
   "source": [
    "schools2013.head()"
   ]
  },
  {
   "cell_type": "code",
   "execution_count": 241,
   "metadata": {},
   "outputs": [
    {
     "data": {
      "text/html": [
       "<div>\n",
       "<table border=\"1\" class=\"dataframe\">\n",
       "  <thead>\n",
       "    <tr style=\"text-align: right;\">\n",
       "      <th></th>\n",
       "      <th>DBN</th>\n",
       "      <th>SchoolName</th>\n",
       "      <th>SchoolType</th>\n",
       "      <th>Rating</th>\n",
       "      <th>BORO</th>\n",
       "      <th>ZIP</th>\n",
       "      <th>geometry</th>\n",
       "      <th>index_right</th>\n",
       "      <th>puma</th>\n",
       "      <th>shape_leng</th>\n",
       "      <th>shape_area</th>\n",
       "    </tr>\n",
       "  </thead>\n",
       "  <tbody>\n",
       "    <tr>\n",
       "      <th>341</th>\n",
       "      <td>X307</td>\n",
       "      <td>Luisa Pineiro Fuentes School of Science and Di...</td>\n",
       "      <td>Elementary</td>\n",
       "      <td>5.0</td>\n",
       "      <td>X</td>\n",
       "      <td>10468</td>\n",
       "      <td>POINT (1011441.883968057 255954.5619534563)</td>\n",
       "      <td>0</td>\n",
       "      <td>3701</td>\n",
       "      <td>53227.144376</td>\n",
       "      <td>9.792852e+07</td>\n",
       "    </tr>\n",
       "    <tr>\n",
       "      <th>346</th>\n",
       "      <td>X340</td>\n",
       "      <td>P.S. 340</td>\n",
       "      <td>Elementary</td>\n",
       "      <td>5.0</td>\n",
       "      <td>X</td>\n",
       "      <td>10468</td>\n",
       "      <td>POINT (1012674.011965437 255963.4726108323)</td>\n",
       "      <td>0</td>\n",
       "      <td>3701</td>\n",
       "      <td>53227.144376</td>\n",
       "      <td>9.792852e+07</td>\n",
       "    </tr>\n",
       "    <tr>\n",
       "      <th>321</th>\n",
       "      <td>X086</td>\n",
       "      <td>P.S. 086 Kingsbridge Heights</td>\n",
       "      <td>Elementary</td>\n",
       "      <td>5.0</td>\n",
       "      <td>X</td>\n",
       "      <td>10468</td>\n",
       "      <td>POINT (1012385.25224769 256185.0749038415)</td>\n",
       "      <td>0</td>\n",
       "      <td>3701</td>\n",
       "      <td>53227.144376</td>\n",
       "      <td>9.792852e+07</td>\n",
       "    </tr>\n",
       "    <tr>\n",
       "      <th>347</th>\n",
       "      <td>X342</td>\n",
       "      <td>International School for Liberal Arts</td>\n",
       "      <td>Middle</td>\n",
       "      <td>5.0</td>\n",
       "      <td>X</td>\n",
       "      <td>10468</td>\n",
       "      <td>POINT (1012546.720579609 256392.6970082848)</td>\n",
       "      <td>0</td>\n",
       "      <td>3701</td>\n",
       "      <td>53227.144376</td>\n",
       "      <td>9.792852e+07</td>\n",
       "    </tr>\n",
       "    <tr>\n",
       "      <th>349</th>\n",
       "      <td>X360</td>\n",
       "      <td>P.S. 360</td>\n",
       "      <td>Elementary</td>\n",
       "      <td>3.0</td>\n",
       "      <td>X</td>\n",
       "      <td>10463</td>\n",
       "      <td>POINT (1011283.377664369 257987.5970700345)</td>\n",
       "      <td>0</td>\n",
       "      <td>3701</td>\n",
       "      <td>53227.144376</td>\n",
       "      <td>9.792852e+07</td>\n",
       "    </tr>\n",
       "  </tbody>\n",
       "</table>\n",
       "</div>"
      ],
      "text/plain": [
       "      DBN                                         SchoolName  SchoolType  \\\n",
       "341  X307  Luisa Pineiro Fuentes School of Science and Di...  Elementary   \n",
       "346  X340                                           P.S. 340  Elementary   \n",
       "321  X086                       P.S. 086 Kingsbridge Heights  Elementary   \n",
       "347  X342              International School for Liberal Arts      Middle   \n",
       "349  X360                                           P.S. 360  Elementary   \n",
       "\n",
       "     Rating BORO    ZIP                                     geometry  \\\n",
       "341     5.0    X  10468  POINT (1011441.883968057 255954.5619534563)   \n",
       "346     5.0    X  10468  POINT (1012674.011965437 255963.4726108323)   \n",
       "321     5.0    X  10468   POINT (1012385.25224769 256185.0749038415)   \n",
       "347     5.0    X  10468  POINT (1012546.720579609 256392.6970082848)   \n",
       "349     3.0    X  10463  POINT (1011283.377664369 257987.5970700345)   \n",
       "\n",
       "     index_right  puma    shape_leng    shape_area  \n",
       "341            0  3701  53227.144376  9.792852e+07  \n",
       "346            0  3701  53227.144376  9.792852e+07  \n",
       "321            0  3701  53227.144376  9.792852e+07  \n",
       "347            0  3701  53227.144376  9.792852e+07  \n",
       "349            0  3701  53227.144376  9.792852e+07  "
      ]
     },
     "execution_count": 241,
     "metadata": {},
     "output_type": "execute_result"
    }
   ],
   "source": [
    "schools2013g = gpd.sjoin(schools2013, pumashp, how='inner', op='within')\n",
    "schools2013g.head()"
   ]
  },
  {
   "cell_type": "code",
   "execution_count": 242,
   "metadata": {},
   "outputs": [
    {
     "data": {
      "text/html": [
       "<div>\n",
       "<table border=\"1\" class=\"dataframe\">\n",
       "  <thead>\n",
       "    <tr style=\"text-align: right;\">\n",
       "      <th></th>\n",
       "      <th>Rating13</th>\n",
       "    </tr>\n",
       "    <tr>\n",
       "      <th>puma</th>\n",
       "      <th></th>\n",
       "    </tr>\n",
       "  </thead>\n",
       "  <tbody>\n",
       "    <tr>\n",
       "      <th>3701</th>\n",
       "      <td>4.357143</td>\n",
       "    </tr>\n",
       "    <tr>\n",
       "      <th>3702</th>\n",
       "      <td>3.166667</td>\n",
       "    </tr>\n",
       "    <tr>\n",
       "      <th>3703</th>\n",
       "      <td>3.529412</td>\n",
       "    </tr>\n",
       "    <tr>\n",
       "      <th>3704</th>\n",
       "      <td>3.692308</td>\n",
       "    </tr>\n",
       "    <tr>\n",
       "      <th>3705</th>\n",
       "      <td>3.727273</td>\n",
       "    </tr>\n",
       "  </tbody>\n",
       "</table>\n",
       "</div>"
      ],
      "text/plain": [
       "      Rating13\n",
       "puma          \n",
       "3701  4.357143\n",
       "3702  3.166667\n",
       "3703  3.529412\n",
       "3704  3.692308\n",
       "3705  3.727273"
      ]
     },
     "execution_count": 242,
     "metadata": {},
     "output_type": "execute_result"
    }
   ],
   "source": [
    "schools2013g = schools2013g.groupby([schools2013g['puma']]).mean()\n",
    "schools2013g = schools2013g[['Rating']]\n",
    "schools2013g.columns = ['Rating13']\n",
    "schools2013g.head()"
   ]
  },
  {
   "cell_type": "markdown",
   "metadata": {},
   "source": [
    "## Merging two dataframes of 2007 & 2013, than merging with PUMA GeoDataFrame again"
   ]
  },
  {
   "cell_type": "code",
   "execution_count": 309,
   "metadata": {},
   "outputs": [
    {
     "data": {
      "text/html": [
       "<div>\n",
       "<table border=\"1\" class=\"dataframe\">\n",
       "  <thead>\n",
       "    <tr style=\"text-align: right;\">\n",
       "      <th></th>\n",
       "      <th>Rating07</th>\n",
       "      <th>Rating13</th>\n",
       "      <th>RatingChange07-13</th>\n",
       "    </tr>\n",
       "    <tr>\n",
       "      <th>puma</th>\n",
       "      <th></th>\n",
       "      <th></th>\n",
       "      <th></th>\n",
       "    </tr>\n",
       "  </thead>\n",
       "  <tbody>\n",
       "    <tr>\n",
       "      <th>3701</th>\n",
       "      <td>4.192308</td>\n",
       "      <td>4.357143</td>\n",
       "      <td>103.931848</td>\n",
       "    </tr>\n",
       "    <tr>\n",
       "      <th>3702</th>\n",
       "      <td>3.555556</td>\n",
       "      <td>3.166667</td>\n",
       "      <td>89.062500</td>\n",
       "    </tr>\n",
       "    <tr>\n",
       "      <th>3703</th>\n",
       "      <td>3.714286</td>\n",
       "      <td>3.529412</td>\n",
       "      <td>95.022624</td>\n",
       "    </tr>\n",
       "    <tr>\n",
       "      <th>3704</th>\n",
       "      <td>3.800000</td>\n",
       "      <td>3.692308</td>\n",
       "      <td>97.165992</td>\n",
       "    </tr>\n",
       "    <tr>\n",
       "      <th>3705</th>\n",
       "      <td>3.569231</td>\n",
       "      <td>3.727273</td>\n",
       "      <td>104.427900</td>\n",
       "    </tr>\n",
       "  </tbody>\n",
       "</table>\n",
       "</div>"
      ],
      "text/plain": [
       "      Rating07  Rating13  RatingChange07-13\n",
       "puma                                       \n",
       "3701  4.192308  4.357143         103.931848\n",
       "3702  3.555556  3.166667          89.062500\n",
       "3703  3.714286  3.529412          95.022624\n",
       "3704  3.800000  3.692308          97.165992\n",
       "3705  3.569231  3.727273         104.427900"
      ]
     },
     "execution_count": 309,
     "metadata": {},
     "output_type": "execute_result"
    }
   ],
   "source": [
    "# merge 07 + 13 \n",
    "\n",
    "schoolspuma = schools2007g.merge(schools2013g, left_index=True, right_index=True)\n",
    "schoolspuma['RatingChange07-13'] = schoolspuma['Rating13'] / schoolspuma['Rating07'] * 100\n",
    "schoolspuma.head()"
   ]
  },
  {
   "cell_type": "code",
   "execution_count": 310,
   "metadata": {},
   "outputs": [
    {
     "data": {
      "text/html": [
       "<div>\n",
       "<table border=\"1\" class=\"dataframe\">\n",
       "  <thead>\n",
       "    <tr style=\"text-align: right;\">\n",
       "      <th></th>\n",
       "      <th>Rating07</th>\n",
       "      <th>Rating13</th>\n",
       "      <th>RatingChange07-13</th>\n",
       "      <th>puma</th>\n",
       "      <th>shape_leng</th>\n",
       "      <th>shape_area</th>\n",
       "      <th>geometry</th>\n",
       "    </tr>\n",
       "    <tr>\n",
       "      <th>index_right</th>\n",
       "      <th></th>\n",
       "      <th></th>\n",
       "      <th></th>\n",
       "      <th></th>\n",
       "      <th></th>\n",
       "      <th></th>\n",
       "      <th></th>\n",
       "    </tr>\n",
       "  </thead>\n",
       "  <tbody>\n",
       "    <tr>\n",
       "      <th>0</th>\n",
       "      <td>4.192308</td>\n",
       "      <td>4.357143</td>\n",
       "      <td>103.931848</td>\n",
       "      <td>3701</td>\n",
       "      <td>53227.144376</td>\n",
       "      <td>9.792852e+07</td>\n",
       "      <td>POLYGON ((1012885.033996583 268830.4841918442,...</td>\n",
       "    </tr>\n",
       "    <tr>\n",
       "      <th>1</th>\n",
       "      <td>3.555556</td>\n",
       "      <td>3.166667</td>\n",
       "      <td>89.062500</td>\n",
       "      <td>3702</td>\n",
       "      <td>106050.008344</td>\n",
       "      <td>1.889860e+08</td>\n",
       "      <td>POLYGON ((1021632.335632326 267934.4393920284,...</td>\n",
       "    </tr>\n",
       "    <tr>\n",
       "      <th>2</th>\n",
       "      <td>3.714286</td>\n",
       "      <td>3.529412</td>\n",
       "      <td>95.022624</td>\n",
       "      <td>3703</td>\n",
       "      <td>304875.033427</td>\n",
       "      <td>2.670770e+08</td>\n",
       "      <td>(POLYGON ((1042822.450195312 243439.8142089319...</td>\n",
       "    </tr>\n",
       "    <tr>\n",
       "      <th>3</th>\n",
       "      <td>3.800000</td>\n",
       "      <td>3.692308</td>\n",
       "      <td>97.165992</td>\n",
       "      <td>3704</td>\n",
       "      <td>47970.900868</td>\n",
       "      <td>1.062129e+08</td>\n",
       "      <td>POLYGON ((1026308.769592285 256767.6972045382,...</td>\n",
       "    </tr>\n",
       "    <tr>\n",
       "      <th>4</th>\n",
       "      <td>3.569231</td>\n",
       "      <td>3.727273</td>\n",
       "      <td>104.427900</td>\n",
       "      <td>3705</td>\n",
       "      <td>68593.066759</td>\n",
       "      <td>1.224946e+08</td>\n",
       "      <td>POLYGON ((1020080.524597168 255041.8771972096,...</td>\n",
       "    </tr>\n",
       "  </tbody>\n",
       "</table>\n",
       "</div>"
      ],
      "text/plain": [
       "             Rating07  Rating13  RatingChange07-13  puma     shape_leng  \\\n",
       "index_right                                                               \n",
       "0            4.192308  4.357143         103.931848  3701   53227.144376   \n",
       "1            3.555556  3.166667          89.062500  3702  106050.008344   \n",
       "2            3.714286  3.529412          95.022624  3703  304875.033427   \n",
       "3            3.800000  3.692308          97.165992  3704   47970.900868   \n",
       "4            3.569231  3.727273         104.427900  3705   68593.066759   \n",
       "\n",
       "               shape_area                                           geometry  \n",
       "index_right                                                                   \n",
       "0            9.792852e+07  POLYGON ((1012885.033996583 268830.4841918442,...  \n",
       "1            1.889860e+08  POLYGON ((1021632.335632326 267934.4393920284,...  \n",
       "2            2.670770e+08  (POLYGON ((1042822.450195312 243439.8142089319...  \n",
       "3            1.062129e+08  POLYGON ((1026308.769592285 256767.6972045382,...  \n",
       "4            1.224946e+08  POLYGON ((1020080.524597168 255041.8771972096,...  "
      ]
     },
     "execution_count": 310,
     "metadata": {},
     "output_type": "execute_result"
    }
   ],
   "source": [
    "# merge with puma shp\n",
    "\n",
    "schoolspuma = schoolspuma.merge(pumashp, left_index=True, right_on='puma')\n",
    "schoolspuma.head()"
   ]
  },
  {
   "cell_type": "code",
   "execution_count": 311,
   "metadata": {
    "scrolled": true
   },
   "outputs": [
    {
     "data": {
      "text/plain": [
       "Rating07             float64\n",
       "Rating13             float64\n",
       "RatingChange07-13    float64\n",
       "puma                  object\n",
       "shape_leng           float64\n",
       "shape_area           float64\n",
       "geometry              object\n",
       "dtype: object"
      ]
     },
     "execution_count": 311,
     "metadata": {},
     "output_type": "execute_result"
    }
   ],
   "source": [
    "schoolspuma.dtypes"
   ]
  },
  {
   "cell_type": "code",
   "execution_count": 312,
   "metadata": {},
   "outputs": [],
   "source": [
    "schoolspuma['puma'] = schoolspuma['puma'].astype(int)"
   ]
  },
  {
   "cell_type": "code",
   "execution_count": 313,
   "metadata": {},
   "outputs": [],
   "source": [
    "crs = {'init': 'epsg:2263'}\n",
    "geoschoolspuma = gpd.GeoDataFrame(schoolspuma, crs=crs, geometry=schoolspuma.geometry)"
   ]
  },
  {
   "cell_type": "code",
   "execution_count": 314,
   "metadata": {},
   "outputs": [],
   "source": [
    "geoschoolspuma.to_csv('schoolspuma.csv')"
   ]
  },
  {
   "cell_type": "markdown",
   "metadata": {},
   "source": [
    "# Plot School Ratings by PUMA"
   ]
  },
  {
   "cell_type": "code",
   "execution_count": 292,
   "metadata": {
    "scrolled": false
   },
   "outputs": [
    {
     "data": {
      "image/png": "[encoded data removed]",
      "text/plain": [
       "<matplotlib.figure.Figure at 0x7f2b20220748>"
      ]
     },
     "metadata": {},
     "output_type": "display_data"
    }
   ],
   "source": [
    "# Rating 07\n",
    "\n",
    "fig = plt.figure(figsize = (10,10))\n",
    "ax = fig.add_subplot(111)\n",
    "cp.choroplethNYC(geoschoolspuma, column='Rating07', cmap='bone', k=7, edgecolor='k', lw=.5, ax=ax)\n",
    "plt.title(\"School Rating, year 2007, by PUMA\", fontsize=20);"
   ]
  },
  {
   "cell_type": "code",
   "execution_count": 294,
   "metadata": {},
   "outputs": [
    {
     "data": {
      "image/png": "[encoded data removed]",
      "text/plain": [
       "<matplotlib.figure.Figure at 0x7f2b201c8eb8>"
      ]
     },
     "metadata": {},
     "output_type": "display_data"
    }
   ],
   "source": [
    "# Rating 13\n",
    "\n",
    "fig = plt.figure(figsize = (10,10))\n",
    "ax = fig.add_subplot(111)\n",
    "cp.choroplethNYC(geoschoolspuma, column='Rating13', cmap='bone', k=7, edgecolor='k', lw=.5, ax=ax)\n",
    "plt.title(\"School Rating, year 2013, by PUMA\", fontsize=20);"
   ]
  },
  {
   "cell_type": "code",
   "execution_count": 295,
   "metadata": {},
   "outputs": [
    {
     "data": {
      "image/png": "[encoded data removed]",
      "text/plain": [
       "<matplotlib.figure.Figure at 0x7f2b2013deb8>"
      ]
     },
     "metadata": {},
     "output_type": "display_data"
    }
   ],
   "source": [
    "# change 07-13\n",
    "\n",
    "fig = plt.figure(figsize = (10,10))\n",
    "ax = fig.add_subplot(111)\n",
    "cp.choroplethNYC(geoschoolspuma, column='RatingChange07-13', cmap='coolwarm_r', scheme='Quantiles', k=7, edgecolor='k', lw=.5, ax=ax);\n",
    "plt.title(\"School Rating Change (%) between 2007 and 2013\", fontsize=20);"
   ]
  },
  {
   "cell_type": "markdown",
   "metadata": {},
   "source": [
    "# Reading in Crime Data"
   ]
  },
  {
   "cell_type": "code",
   "execution_count": 315,
   "metadata": {},
   "outputs": [
    {
     "data": {
      "text/html": [
       "<div>\n",
       "<table border=\"1\" class=\"dataframe\">\n",
       "  <thead>\n",
       "    <tr style=\"text-align: right;\">\n",
       "      <th></th>\n",
       "      <th>puma</th>\n",
       "      <th>all_crimes07</th>\n",
       "      <th>theft_crimes07</th>\n",
       "      <th>assault_crimes07</th>\n",
       "      <th>child_crimes07</th>\n",
       "      <th>drug_crimes07</th>\n",
       "    </tr>\n",
       "  </thead>\n",
       "  <tbody>\n",
       "    <tr>\n",
       "      <th>0</th>\n",
       "      <td>3701</td>\n",
       "      <td>5479</td>\n",
       "      <td>1725</td>\n",
       "      <td>443</td>\n",
       "      <td>1</td>\n",
       "      <td>285</td>\n",
       "    </tr>\n",
       "    <tr>\n",
       "      <th>1</th>\n",
       "      <td>3702</td>\n",
       "      <td>8249</td>\n",
       "      <td>1731</td>\n",
       "      <td>741</td>\n",
       "      <td>3</td>\n",
       "      <td>1269</td>\n",
       "    </tr>\n",
       "    <tr>\n",
       "      <th>2</th>\n",
       "      <td>3703</td>\n",
       "      <td>5524</td>\n",
       "      <td>1548</td>\n",
       "      <td>405</td>\n",
       "      <td>1</td>\n",
       "      <td>225</td>\n",
       "    </tr>\n",
       "    <tr>\n",
       "      <th>3</th>\n",
       "      <td>3704</td>\n",
       "      <td>7282</td>\n",
       "      <td>2186</td>\n",
       "      <td>592</td>\n",
       "      <td>4</td>\n",
       "      <td>261</td>\n",
       "    </tr>\n",
       "    <tr>\n",
       "      <th>4</th>\n",
       "      <td>3705</td>\n",
       "      <td>16566</td>\n",
       "      <td>4119</td>\n",
       "      <td>2072</td>\n",
       "      <td>7</td>\n",
       "      <td>1858</td>\n",
       "    </tr>\n",
       "  </tbody>\n",
       "</table>\n",
       "</div>"
      ],
      "text/plain": [
       "   puma  all_crimes07  theft_crimes07  assault_crimes07  child_crimes07  \\\n",
       "0  3701          5479            1725               443               1   \n",
       "1  3702          8249            1731               741               3   \n",
       "2  3703          5524            1548               405               1   \n",
       "3  3704          7282            2186               592               4   \n",
       "4  3705         16566            4119              2072               7   \n",
       "\n",
       "   drug_crimes07  \n",
       "0            285  \n",
       "1           1269  \n",
       "2            225  \n",
       "3            261  \n",
       "4           1858  "
      ]
     },
     "execution_count": 315,
     "metadata": {},
     "output_type": "execute_result"
    }
   ],
   "source": [
    "crime07 = pd.read_csv('finalcrime07.csv')\n",
    "crime07 = crime07.drop('Unnamed: 0',axis=1)\n",
    "crime07.head()"
   ]
  },
  {
   "cell_type": "code",
   "execution_count": 316,
   "metadata": {},
   "outputs": [
    {
     "data": {
      "text/html": [
       "<div>\n",
       "<table border=\"1\" class=\"dataframe\">\n",
       "  <thead>\n",
       "    <tr style=\"text-align: right;\">\n",
       "      <th></th>\n",
       "      <th>puma</th>\n",
       "      <th>all_crimes13</th>\n",
       "      <th>assault13</th>\n",
       "      <th>child13</th>\n",
       "      <th>drug13</th>\n",
       "      <th>murder13</th>\n",
       "      <th>thieving13</th>\n",
       "    </tr>\n",
       "  </thead>\n",
       "  <tbody>\n",
       "    <tr>\n",
       "      <th>0</th>\n",
       "      <td>3701</td>\n",
       "      <td>4443</td>\n",
       "      <td>427</td>\n",
       "      <td>1</td>\n",
       "      <td>377</td>\n",
       "      <td>2</td>\n",
       "      <td>1506</td>\n",
       "    </tr>\n",
       "    <tr>\n",
       "      <th>1</th>\n",
       "      <td>3702</td>\n",
       "      <td>8049</td>\n",
       "      <td>1065</td>\n",
       "      <td>4</td>\n",
       "      <td>494</td>\n",
       "      <td>10</td>\n",
       "      <td>2214</td>\n",
       "    </tr>\n",
       "    <tr>\n",
       "      <th>2</th>\n",
       "      <td>3703</td>\n",
       "      <td>4799</td>\n",
       "      <td>448</td>\n",
       "      <td>1</td>\n",
       "      <td>215</td>\n",
       "      <td>4</td>\n",
       "      <td>1567</td>\n",
       "    </tr>\n",
       "    <tr>\n",
       "      <th>3</th>\n",
       "      <td>3704</td>\n",
       "      <td>6489</td>\n",
       "      <td>694</td>\n",
       "      <td>0</td>\n",
       "      <td>424</td>\n",
       "      <td>2</td>\n",
       "      <td>1884</td>\n",
       "    </tr>\n",
       "    <tr>\n",
       "      <th>4</th>\n",
       "      <td>3705</td>\n",
       "      <td>14581</td>\n",
       "      <td>2080</td>\n",
       "      <td>3</td>\n",
       "      <td>1662</td>\n",
       "      <td>13</td>\n",
       "      <td>3759</td>\n",
       "    </tr>\n",
       "  </tbody>\n",
       "</table>\n",
       "</div>"
      ],
      "text/plain": [
       "   puma  all_crimes13  assault13  child13  drug13  murder13  thieving13\n",
       "0  3701          4443        427        1     377         2        1506\n",
       "1  3702          8049       1065        4     494        10        2214\n",
       "2  3703          4799        448        1     215         4        1567\n",
       "3  3704          6489        694        0     424         2        1884\n",
       "4  3705         14581       2080        3    1662        13        3759"
      ]
     },
     "execution_count": 316,
     "metadata": {},
     "output_type": "execute_result"
    }
   ],
   "source": [
    "crime13 = pd.read_csv('final13.csv')\n",
    "crime13 = crime13.drop('Unnamed: 0',axis=1)\n",
    "crime13.head()"
   ]
  },
  {
   "cell_type": "code",
   "execution_count": 317,
   "metadata": {},
   "outputs": [
    {
     "data": {
      "text/html": [
       "<div>\n",
       "<table border=\"1\" class=\"dataframe\">\n",
       "  <thead>\n",
       "    <tr style=\"text-align: right;\">\n",
       "      <th></th>\n",
       "      <th>puma</th>\n",
       "      <th>all_crimes07</th>\n",
       "      <th>theft_crimes07</th>\n",
       "      <th>assault_crimes07</th>\n",
       "      <th>child_crimes07</th>\n",
       "      <th>drug_crimes07</th>\n",
       "      <th>all_crimes13</th>\n",
       "      <th>assault13</th>\n",
       "      <th>child13</th>\n",
       "      <th>drug13</th>\n",
       "      <th>murder13</th>\n",
       "      <th>thieving13</th>\n",
       "    </tr>\n",
       "  </thead>\n",
       "  <tbody>\n",
       "    <tr>\n",
       "      <th>0</th>\n",
       "      <td>3701</td>\n",
       "      <td>5479</td>\n",
       "      <td>1725</td>\n",
       "      <td>443</td>\n",
       "      <td>1</td>\n",
       "      <td>285</td>\n",
       "      <td>4443</td>\n",
       "      <td>427</td>\n",
       "      <td>1</td>\n",
       "      <td>377</td>\n",
       "      <td>2</td>\n",
       "      <td>1506</td>\n",
       "    </tr>\n",
       "    <tr>\n",
       "      <th>1</th>\n",
       "      <td>3702</td>\n",
       "      <td>8249</td>\n",
       "      <td>1731</td>\n",
       "      <td>741</td>\n",
       "      <td>3</td>\n",
       "      <td>1269</td>\n",
       "      <td>8049</td>\n",
       "      <td>1065</td>\n",
       "      <td>4</td>\n",
       "      <td>494</td>\n",
       "      <td>10</td>\n",
       "      <td>2214</td>\n",
       "    </tr>\n",
       "    <tr>\n",
       "      <th>2</th>\n",
       "      <td>3703</td>\n",
       "      <td>5524</td>\n",
       "      <td>1548</td>\n",
       "      <td>405</td>\n",
       "      <td>1</td>\n",
       "      <td>225</td>\n",
       "      <td>4799</td>\n",
       "      <td>448</td>\n",
       "      <td>1</td>\n",
       "      <td>215</td>\n",
       "      <td>4</td>\n",
       "      <td>1567</td>\n",
       "    </tr>\n",
       "    <tr>\n",
       "      <th>3</th>\n",
       "      <td>3704</td>\n",
       "      <td>7282</td>\n",
       "      <td>2186</td>\n",
       "      <td>592</td>\n",
       "      <td>4</td>\n",
       "      <td>261</td>\n",
       "      <td>6489</td>\n",
       "      <td>694</td>\n",
       "      <td>0</td>\n",
       "      <td>424</td>\n",
       "      <td>2</td>\n",
       "      <td>1884</td>\n",
       "    </tr>\n",
       "    <tr>\n",
       "      <th>4</th>\n",
       "      <td>3705</td>\n",
       "      <td>16566</td>\n",
       "      <td>4119</td>\n",
       "      <td>2072</td>\n",
       "      <td>7</td>\n",
       "      <td>1858</td>\n",
       "      <td>14581</td>\n",
       "      <td>2080</td>\n",
       "      <td>3</td>\n",
       "      <td>1662</td>\n",
       "      <td>13</td>\n",
       "      <td>3759</td>\n",
       "    </tr>\n",
       "  </tbody>\n",
       "</table>\n",
       "</div>"
      ],
      "text/plain": [
       "   puma  all_crimes07  theft_crimes07  assault_crimes07  child_crimes07  \\\n",
       "0  3701          5479            1725               443               1   \n",
       "1  3702          8249            1731               741               3   \n",
       "2  3703          5524            1548               405               1   \n",
       "3  3704          7282            2186               592               4   \n",
       "4  3705         16566            4119              2072               7   \n",
       "\n",
       "   drug_crimes07  all_crimes13  assault13  child13  drug13  murder13  \\\n",
       "0            285          4443        427        1     377         2   \n",
       "1           1269          8049       1065        4     494        10   \n",
       "2            225          4799        448        1     215         4   \n",
       "3            261          6489        694        0     424         2   \n",
       "4           1858         14581       2080        3    1662        13   \n",
       "\n",
       "   thieving13  \n",
       "0        1506  \n",
       "1        2214  \n",
       "2        1567  \n",
       "3        1884  \n",
       "4        3759  "
      ]
     },
     "execution_count": 317,
     "metadata": {},
     "output_type": "execute_result"
    }
   ],
   "source": [
    "# merge crime 07 and 13\n",
    "\n",
    "crime = crime07.merge(crime13, on='puma')\n",
    "crime.head()"
   ]
  },
  {
   "cell_type": "code",
   "execution_count": 318,
   "metadata": {},
   "outputs": [
    {
     "data": {
      "text/plain": [
       "dtype('int64')"
      ]
     },
     "execution_count": 318,
     "metadata": {},
     "output_type": "execute_result"
    }
   ],
   "source": [
    "crime.puma.dtypes"
   ]
  },
  {
   "cell_type": "markdown",
   "metadata": {},
   "source": [
    "## Merging Crime with Schools, than merging with PUMA GeoDataFrame again"
   ]
  },
  {
   "cell_type": "code",
   "execution_count": 329,
   "metadata": {},
   "outputs": [
    {
     "data": {
      "text/html": [
       "<div>\n",
       "<table border=\"1\" class=\"dataframe\">\n",
       "  <thead>\n",
       "    <tr style=\"text-align: right;\">\n",
       "      <th></th>\n",
       "      <th>Rating07</th>\n",
       "      <th>Rating13</th>\n",
       "      <th>RatingChange07-13</th>\n",
       "      <th>puma</th>\n",
       "      <th>shape_leng</th>\n",
       "      <th>shape_area</th>\n",
       "      <th>geometry</th>\n",
       "      <th>all_crimes07</th>\n",
       "      <th>theft_crimes07</th>\n",
       "      <th>assault_crimes07</th>\n",
       "      <th>child_crimes07</th>\n",
       "      <th>drug_crimes07</th>\n",
       "      <th>all_crimes13</th>\n",
       "      <th>assault13</th>\n",
       "      <th>child13</th>\n",
       "      <th>drug13</th>\n",
       "      <th>murder13</th>\n",
       "      <th>thieving13</th>\n",
       "    </tr>\n",
       "  </thead>\n",
       "  <tbody>\n",
       "    <tr>\n",
       "      <th>0</th>\n",
       "      <td>4.192308</td>\n",
       "      <td>4.357143</td>\n",
       "      <td>103.931848</td>\n",
       "      <td>3701</td>\n",
       "      <td>53227.144376</td>\n",
       "      <td>9.792852e+07</td>\n",
       "      <td>POLYGON ((1012885.033996583 268830.4841918442,...</td>\n",
       "      <td>5479</td>\n",
       "      <td>1725</td>\n",
       "      <td>443</td>\n",
       "      <td>1</td>\n",
       "      <td>285</td>\n",
       "      <td>4443</td>\n",
       "      <td>427</td>\n",
       "      <td>1</td>\n",
       "      <td>377</td>\n",
       "      <td>2</td>\n",
       "      <td>1506</td>\n",
       "    </tr>\n",
       "    <tr>\n",
       "      <th>1</th>\n",
       "      <td>3.555556</td>\n",
       "      <td>3.166667</td>\n",
       "      <td>89.062500</td>\n",
       "      <td>3702</td>\n",
       "      <td>106050.008344</td>\n",
       "      <td>1.889860e+08</td>\n",
       "      <td>POLYGON ((1021632.335632326 267934.4393920284,...</td>\n",
       "      <td>8249</td>\n",
       "      <td>1731</td>\n",
       "      <td>741</td>\n",
       "      <td>3</td>\n",
       "      <td>1269</td>\n",
       "      <td>8049</td>\n",
       "      <td>1065</td>\n",
       "      <td>4</td>\n",
       "      <td>494</td>\n",
       "      <td>10</td>\n",
       "      <td>2214</td>\n",
       "    </tr>\n",
       "    <tr>\n",
       "      <th>2</th>\n",
       "      <td>3.714286</td>\n",
       "      <td>3.529412</td>\n",
       "      <td>95.022624</td>\n",
       "      <td>3703</td>\n",
       "      <td>304875.033427</td>\n",
       "      <td>2.670770e+08</td>\n",
       "      <td>(POLYGON ((1042822.450195312 243439.8142089319...</td>\n",
       "      <td>5524</td>\n",
       "      <td>1548</td>\n",
       "      <td>405</td>\n",
       "      <td>1</td>\n",
       "      <td>225</td>\n",
       "      <td>4799</td>\n",
       "      <td>448</td>\n",
       "      <td>1</td>\n",
       "      <td>215</td>\n",
       "      <td>4</td>\n",
       "      <td>1567</td>\n",
       "    </tr>\n",
       "    <tr>\n",
       "      <th>3</th>\n",
       "      <td>3.800000</td>\n",
       "      <td>3.692308</td>\n",
       "      <td>97.165992</td>\n",
       "      <td>3704</td>\n",
       "      <td>47970.900868</td>\n",
       "      <td>1.062129e+08</td>\n",
       "      <td>POLYGON ((1026308.769592285 256767.6972045382,...</td>\n",
       "      <td>7282</td>\n",
       "      <td>2186</td>\n",
       "      <td>592</td>\n",
       "      <td>4</td>\n",
       "      <td>261</td>\n",
       "      <td>6489</td>\n",
       "      <td>694</td>\n",
       "      <td>0</td>\n",
       "      <td>424</td>\n",
       "      <td>2</td>\n",
       "      <td>1884</td>\n",
       "    </tr>\n",
       "    <tr>\n",
       "      <th>4</th>\n",
       "      <td>3.569231</td>\n",
       "      <td>3.727273</td>\n",
       "      <td>104.427900</td>\n",
       "      <td>3705</td>\n",
       "      <td>68593.066759</td>\n",
       "      <td>1.224946e+08</td>\n",
       "      <td>POLYGON ((1020080.524597168 255041.8771972096,...</td>\n",
       "      <td>16566</td>\n",
       "      <td>4119</td>\n",
       "      <td>2072</td>\n",
       "      <td>7</td>\n",
       "      <td>1858</td>\n",
       "      <td>14581</td>\n",
       "      <td>2080</td>\n",
       "      <td>3</td>\n",
       "      <td>1662</td>\n",
       "      <td>13</td>\n",
       "      <td>3759</td>\n",
       "    </tr>\n",
       "  </tbody>\n",
       "</table>\n",
       "</div>"
      ],
      "text/plain": [
       "   Rating07  Rating13  RatingChange07-13  puma     shape_leng    shape_area  \\\n",
       "0  4.192308  4.357143         103.931848  3701   53227.144376  9.792852e+07   \n",
       "1  3.555556  3.166667          89.062500  3702  106050.008344  1.889860e+08   \n",
       "2  3.714286  3.529412          95.022624  3703  304875.033427  2.670770e+08   \n",
       "3  3.800000  3.692308          97.165992  3704   47970.900868  1.062129e+08   \n",
       "4  3.569231  3.727273         104.427900  3705   68593.066759  1.224946e+08   \n",
       "\n",
       "                                            geometry  all_crimes07  \\\n",
       "0  POLYGON ((1012885.033996583 268830.4841918442,...          5479   \n",
       "1  POLYGON ((1021632.335632326 267934.4393920284,...          8249   \n",
       "2  (POLYGON ((1042822.450195312 243439.8142089319...          5524   \n",
       "3  POLYGON ((1026308.769592285 256767.6972045382,...          7282   \n",
       "4  POLYGON ((1020080.524597168 255041.8771972096,...         16566   \n",
       "\n",
       "   theft_crimes07  assault_crimes07  child_crimes07  drug_crimes07  \\\n",
       "0            1725               443               1            285   \n",
       "1            1731               741               3           1269   \n",
       "2            1548               405               1            225   \n",
       "3            2186               592               4            261   \n",
       "4            4119              2072               7           1858   \n",
       "\n",
       "   all_crimes13  assault13  child13  drug13  murder13  thieving13  \n",
       "0          4443        427        1     377         2        1506  \n",
       "1          8049       1065        4     494        10        2214  \n",
       "2          4799        448        1     215         4        1567  \n",
       "3          6489        694        0     424         2        1884  \n",
       "4         14581       2080        3    1662        13        3759  "
      ]
     },
     "execution_count": 329,
     "metadata": {},
     "output_type": "execute_result"
    }
   ],
   "source": [
    "# merge crime and schools\n",
    "\n",
    "crimeschools = schoolspuma.merge(crime,  on='puma')\n",
    "crimeschools.head()"
   ]
  },
  {
   "cell_type": "code",
   "execution_count": 330,
   "metadata": {},
   "outputs": [
    {
     "data": {
      "text/plain": [
       "puma            int64\n",
       "shape_leng    float64\n",
       "shape_area    float64\n",
       "geometry       object\n",
       "dtype: object"
      ]
     },
     "execution_count": 330,
     "metadata": {},
     "output_type": "execute_result"
    }
   ],
   "source": [
    "pumashp.dtypes"
   ]
  },
  {
   "cell_type": "code",
   "execution_count": 325,
   "metadata": {},
   "outputs": [],
   "source": [
    "pumashp['puma'] = pumashp['puma'].astype(int)"
   ]
  },
  {
   "cell_type": "code",
   "execution_count": 331,
   "metadata": {},
   "outputs": [
    {
     "data": {
      "text/html": [
       "<div>\n",
       "<table border=\"1\" class=\"dataframe\">\n",
       "  <thead>\n",
       "    <tr style=\"text-align: right;\">\n",
       "      <th></th>\n",
       "      <th>Rating07</th>\n",
       "      <th>Rating13</th>\n",
       "      <th>RatingChange07-13</th>\n",
       "      <th>shape_leng_x</th>\n",
       "      <th>shape_area_x</th>\n",
       "      <th>geometry_x</th>\n",
       "      <th>all_crimes07</th>\n",
       "      <th>theft_crimes07</th>\n",
       "      <th>assault_crimes07</th>\n",
       "      <th>child_crimes07</th>\n",
       "      <th>drug_crimes07</th>\n",
       "      <th>all_crimes13</th>\n",
       "      <th>assault13</th>\n",
       "      <th>child13</th>\n",
       "      <th>drug13</th>\n",
       "      <th>murder13</th>\n",
       "      <th>thieving13</th>\n",
       "      <th>shape_leng_y</th>\n",
       "      <th>shape_area_y</th>\n",
       "      <th>geometry_y</th>\n",
       "    </tr>\n",
       "    <tr>\n",
       "      <th>puma</th>\n",
       "      <th></th>\n",
       "      <th></th>\n",
       "      <th></th>\n",
       "      <th></th>\n",
       "      <th></th>\n",
       "      <th></th>\n",
       "      <th></th>\n",
       "      <th></th>\n",
       "      <th></th>\n",
       "      <th></th>\n",
       "      <th></th>\n",
       "      <th></th>\n",
       "      <th></th>\n",
       "      <th></th>\n",
       "      <th></th>\n",
       "      <th></th>\n",
       "      <th></th>\n",
       "      <th></th>\n",
       "      <th></th>\n",
       "      <th></th>\n",
       "    </tr>\n",
       "  </thead>\n",
       "  <tbody>\n",
       "    <tr>\n",
       "      <th>3701</th>\n",
       "      <td>4.192308</td>\n",
       "      <td>4.357143</td>\n",
       "      <td>103.931848</td>\n",
       "      <td>53227.144376</td>\n",
       "      <td>9.792852e+07</td>\n",
       "      <td>POLYGON ((1012885.033996583 268830.4841918442,...</td>\n",
       "      <td>5479</td>\n",
       "      <td>1725</td>\n",
       "      <td>443</td>\n",
       "      <td>1</td>\n",
       "      <td>285</td>\n",
       "      <td>4443</td>\n",
       "      <td>427</td>\n",
       "      <td>1</td>\n",
       "      <td>377</td>\n",
       "      <td>2</td>\n",
       "      <td>1506</td>\n",
       "      <td>53227.144376</td>\n",
       "      <td>9.792852e+07</td>\n",
       "      <td>POLYGON ((1012885.033996583 268830.4841918442,...</td>\n",
       "    </tr>\n",
       "    <tr>\n",
       "      <th>3702</th>\n",
       "      <td>3.555556</td>\n",
       "      <td>3.166667</td>\n",
       "      <td>89.062500</td>\n",
       "      <td>106050.008344</td>\n",
       "      <td>1.889860e+08</td>\n",
       "      <td>POLYGON ((1021632.335632326 267934.4393920284,...</td>\n",
       "      <td>8249</td>\n",
       "      <td>1731</td>\n",
       "      <td>741</td>\n",
       "      <td>3</td>\n",
       "      <td>1269</td>\n",
       "      <td>8049</td>\n",
       "      <td>1065</td>\n",
       "      <td>4</td>\n",
       "      <td>494</td>\n",
       "      <td>10</td>\n",
       "      <td>2214</td>\n",
       "      <td>106050.008344</td>\n",
       "      <td>1.889860e+08</td>\n",
       "      <td>POLYGON ((1021632.335632326 267934.4393920284,...</td>\n",
       "    </tr>\n",
       "    <tr>\n",
       "      <th>3703</th>\n",
       "      <td>3.714286</td>\n",
       "      <td>3.529412</td>\n",
       "      <td>95.022624</td>\n",
       "      <td>304875.033427</td>\n",
       "      <td>2.670770e+08</td>\n",
       "      <td>(POLYGON ((1042822.450195312 243439.8142089319...</td>\n",
       "      <td>5524</td>\n",
       "      <td>1548</td>\n",
       "      <td>405</td>\n",
       "      <td>1</td>\n",
       "      <td>225</td>\n",
       "      <td>4799</td>\n",
       "      <td>448</td>\n",
       "      <td>1</td>\n",
       "      <td>215</td>\n",
       "      <td>4</td>\n",
       "      <td>1567</td>\n",
       "      <td>304875.033427</td>\n",
       "      <td>2.670770e+08</td>\n",
       "      <td>(POLYGON ((1042822.450195312 243439.8142089319...</td>\n",
       "    </tr>\n",
       "    <tr>\n",
       "      <th>3704</th>\n",
       "      <td>3.800000</td>\n",
       "      <td>3.692308</td>\n",
       "      <td>97.165992</td>\n",
       "      <td>47970.900868</td>\n",
       "      <td>1.062129e+08</td>\n",
       "      <td>POLYGON ((1026308.769592285 256767.6972045382,...</td>\n",
       "      <td>7282</td>\n",
       "      <td>2186</td>\n",
       "      <td>592</td>\n",
       "      <td>4</td>\n",
       "      <td>261</td>\n",
       "      <td>6489</td>\n",
       "      <td>694</td>\n",
       "      <td>0</td>\n",
       "      <td>424</td>\n",
       "      <td>2</td>\n",
       "      <td>1884</td>\n",
       "      <td>47970.900868</td>\n",
       "      <td>1.062129e+08</td>\n",
       "      <td>POLYGON ((1026308.769592285 256767.6972045382,...</td>\n",
       "    </tr>\n",
       "    <tr>\n",
       "      <th>3705</th>\n",
       "      <td>3.569231</td>\n",
       "      <td>3.727273</td>\n",
       "      <td>104.427900</td>\n",
       "      <td>68593.066759</td>\n",
       "      <td>1.224946e+08</td>\n",
       "      <td>POLYGON ((1020080.524597168 255041.8771972096,...</td>\n",
       "      <td>16566</td>\n",
       "      <td>4119</td>\n",
       "      <td>2072</td>\n",
       "      <td>7</td>\n",
       "      <td>1858</td>\n",
       "      <td>14581</td>\n",
       "      <td>2080</td>\n",
       "      <td>3</td>\n",
       "      <td>1662</td>\n",
       "      <td>13</td>\n",
       "      <td>3759</td>\n",
       "      <td>68593.066759</td>\n",
       "      <td>1.224946e+08</td>\n",
       "      <td>POLYGON ((1020080.524597168 255041.8771972096,...</td>\n",
       "    </tr>\n",
       "  </tbody>\n",
       "</table>\n",
       "</div>"
      ],
      "text/plain": [
       "      Rating07  Rating13  RatingChange07-13   shape_leng_x  shape_area_x  \\\n",
       "puma                                                                       \n",
       "3701  4.192308  4.357143         103.931848   53227.144376  9.792852e+07   \n",
       "3702  3.555556  3.166667          89.062500  106050.008344  1.889860e+08   \n",
       "3703  3.714286  3.529412          95.022624  304875.033427  2.670770e+08   \n",
       "3704  3.800000  3.692308          97.165992   47970.900868  1.062129e+08   \n",
       "3705  3.569231  3.727273         104.427900   68593.066759  1.224946e+08   \n",
       "\n",
       "                                             geometry_x  all_crimes07  \\\n",
       "puma                                                                    \n",
       "3701  POLYGON ((1012885.033996583 268830.4841918442,...          5479   \n",
       "3702  POLYGON ((1021632.335632326 267934.4393920284,...          8249   \n",
       "3703  (POLYGON ((1042822.450195312 243439.8142089319...          5524   \n",
       "3704  POLYGON ((1026308.769592285 256767.6972045382,...          7282   \n",
       "3705  POLYGON ((1020080.524597168 255041.8771972096,...         16566   \n",
       "\n",
       "      theft_crimes07  assault_crimes07  child_crimes07  drug_crimes07  \\\n",
       "puma                                                                    \n",
       "3701            1725               443               1            285   \n",
       "3702            1731               741               3           1269   \n",
       "3703            1548               405               1            225   \n",
       "3704            2186               592               4            261   \n",
       "3705            4119              2072               7           1858   \n",
       "\n",
       "      all_crimes13  assault13  child13  drug13  murder13  thieving13  \\\n",
       "puma                                                                   \n",
       "3701          4443        427        1     377         2        1506   \n",
       "3702          8049       1065        4     494        10        2214   \n",
       "3703          4799        448        1     215         4        1567   \n",
       "3704          6489        694        0     424         2        1884   \n",
       "3705         14581       2080        3    1662        13        3759   \n",
       "\n",
       "       shape_leng_y  shape_area_y  \\\n",
       "puma                                \n",
       "3701   53227.144376  9.792852e+07   \n",
       "3702  106050.008344  1.889860e+08   \n",
       "3703  304875.033427  2.670770e+08   \n",
       "3704   47970.900868  1.062129e+08   \n",
       "3705   68593.066759  1.224946e+08   \n",
       "\n",
       "                                             geometry_y  \n",
       "puma                                                     \n",
       "3701  POLYGON ((1012885.033996583 268830.4841918442,...  \n",
       "3702  POLYGON ((1021632.335632326 267934.4393920284,...  \n",
       "3703  (POLYGON ((1042822.450195312 243439.8142089319...  \n",
       "3704  POLYGON ((1026308.769592285 256767.6972045382,...  \n",
       "3705  POLYGON ((1020080.524597168 255041.8771972096,...  "
      ]
     },
     "execution_count": 331,
     "metadata": {},
     "output_type": "execute_result"
    }
   ],
   "source": [
    "# merge with puma shp\n",
    "\n",
    "crimeschools = crimeschools.merge(pumashp, on='puma')\n",
    "crimeschools = crimeschools.set_index('puma')\n",
    "crimeschools.head()"
   ]
  },
  {
   "cell_type": "code",
   "execution_count": null,
   "metadata": {},
   "outputs": [],
   "source": []
  },
  {
   "cell_type": "code",
   "execution_count": null,
   "metadata": {},
   "outputs": [],
   "source": []
  },
  {
   "cell_type": "markdown",
   "metadata": {},
   "source": [
    "# Plotting Crime Rates and School Performance Rates"
   ]
  },
  {
   "cell_type": "code",
   "execution_count": null,
   "metadata": {},
   "outputs": [],
   "source": [
    "fig = plt.figure(figsize = (10,10))\n",
    "ax = fig.add_subplot(111)\n",
    "cp.choroplethNYC(schoolspuma, column='RatingChange07-13', cmap='coolwarm_r', scheme='Quantiles', k=7, edgecolor='k', lw=.5, ax=ax)\n",
    "\n",
    "#x = linkNYC.longitude;\n",
    "#y = linkNYC.latitude;\n",
    "#c = linkNYC.Date\n",
    "#scatter(x,y,4,c, cmap='Reds')"
   ]
  }
 ],
 "metadata": {
  "kernelspec": {
   "display_name": "PUI2016_Python3",
   "language": "python",
   "name": "pui2016_python3"
  },
  "language_info": {
   "codemirror_mode": {
    "name": "ipython",
    "version": 3
   },
   "file_extension": ".py",
   "mimetype": "text/x-python",
   "name": "python",
   "nbconvert_exporter": "python",
   "pygments_lexer": "ipython3",
   "version": "3.5.4"
  }
 },
 "nbformat": 4,
 "nbformat_minor": 2
}
